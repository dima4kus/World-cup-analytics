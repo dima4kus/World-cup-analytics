{
  "nbformat": 4,
  "nbformat_minor": 0,
  "metadata": {
    "colab": {
      "provenance": []
    },
    "kernelspec": {
      "name": "python3",
      "display_name": "Python 3"
    },
    "language_info": {
      "name": "python"
    }
  },
  "cells": [
    {
      "cell_type": "markdown",
      "source": [
        "# **Анализ статистики чемпионатов мира по футболу**"
      ],
      "metadata": {
        "id": "mEY3DXkxjJ2a"
      }
    },
    {
      "cell_type": "markdown",
      "source": [
        "## **Цель проекта** - проанализировать дата сета по всем голам со всех чемпионатов мира по футболу, выявить несколько интересных статистических фактов и проверить гипотезу"
      ],
      "metadata": {
        "id": "-Mkaeyltjxdz"
      }
    },
    {
      "cell_type": "markdown",
      "source": [
        "### Исходный дата сет *fifa_wc_data.csv* содержит информацию по каждому голу, забитому на чемпионатах мира по футболу с 1930 по 2022. Он содержит следующие колонки:\n",
        "\n",
        "\n",
        "*   key_id - уникальный идентификатор записи\n",
        "*   goal_id - уникальный идентификатор голов\n",
        "*   tournament_id - идентификатор турнира\n",
        "*   tournament_name - название турнира\n",
        "*   match_id - идентификатор матча\n",
        "*   match_name - название матча\n",
        "*   match_date - дата матча\n",
        "*   stage_name - название стадии турнира (групповая, финальная)\n",
        "*   group_name - номер группы (not applicable в случае стадии плей-офф)\n",
        "*   team_id - идентификатор команды (национальной сборной)\n",
        "*   team_name - название команды\n",
        "*   team_code - аббривеатура команды по стандартам FIFA\n",
        "*   home_team - 1 в случае, если гол забит домашней командой, 0 иначе\n",
        "*   away_team - 1 в случае, если гол забит гостевой командой, 0 иначе\n",
        "*   player_id - идентификатор игрока, забившего гол\n",
        "*   family_name - фамилия игрока\n",
        "*   given_name - имя игрока\n",
        "*   shirt_number - игровой номер\n",
        "*   player_team_id - идентификатор команды, за которую игрок забил гол\n",
        "*   player_team_name - название команды, за которую играет забивший гол игрок\n",
        "*   player_team_code - аббривеатура команды по стандартам FIFA, за которую игрко забил гол\n",
        "*   minute_label - минута, на которой был забит гол\n",
        "*   minute_regulation - минута, на которой был забит гол в числовом значении\n",
        "*   minute_stoppage - добавленное время\n",
        "*   match_period - тайм матча, на которой был забит гол\n",
        "*   own_goal - 1 в случае автогола, 0 иначе\n",
        "*   penalty - 1 в случае, если гол забит с пенальти, 0 иначе\n",
        "\n",
        "\n"
      ],
      "metadata": {
        "id": "QwEC_gtTkPIT"
      }
    },
    {
      "cell_type": "markdown",
      "source": [
        "Импортируем нужные нам библиотеки"
      ],
      "metadata": {
        "id": "_JVwdW0xrSd9"
      }
    },
    {
      "cell_type": "code",
      "source": [
        "import pandas as pd\n",
        "import numpy as np\n",
        "import matplotlib.pyplot as plt\n",
        "import seaborn as sns\n",
        "from scipy.stats import shapiro\n",
        "from scipy.stats import mannwhitneyu"
      ],
      "metadata": {
        "id": "SAnUEBzXjm5g"
      },
      "execution_count": 2,
      "outputs": []
    },
    {
      "cell_type": "markdown",
      "source": [
        "Считаем наш csv файл. Так как формат не UTF-8, а latin, поменяем стандартное значение encoding на latin-1"
      ],
      "metadata": {
        "id": "KLqc9EQurnuz"
      }
    },
    {
      "cell_type": "code",
      "source": [
        "df = pd.read_csv('fifa_wc_data.csv', encoding='latin-1')"
      ],
      "metadata": {
        "id": "aNhi3EyyruP9"
      },
      "execution_count": 3,
      "outputs": []
    },
    {
      "cell_type": "markdown",
      "source": [
        "Проверим, что считали все правильно, посмотрим на последние 10 записей из дата сета"
      ],
      "metadata": {
        "id": "30APrD1msXc_"
      }
    },
    {
      "cell_type": "code",
      "source": [
        "df.tail(10)"
      ],
      "metadata": {
        "colab": {
          "base_uri": "https://localhost:8080/",
          "height": 586
        },
        "id": "aQj87YizsHNQ",
        "outputId": "f90c6a6d-3f83-4929-9380-cf70ec3a6d97"
      },
      "execution_count": 4,
      "outputs": [
        {
          "output_type": "execute_result",
          "data": {
            "text/plain": [
              "      key_id goal_id tournament_id      tournament_name   match_id  \\\n",
              "2710    2711  G-2711       WC-2022  2022 FIFA World Cup  M-2022-62   \n",
              "2711    2712  G-2712       WC-2022  2022 FIFA World Cup  M-2022-63   \n",
              "2712    2713  G-2713       WC-2022  2022 FIFA World Cup  M-2022-63   \n",
              "2713    2714  G-2714       WC-2022  2022 FIFA World Cup  M-2022-63   \n",
              "2714    2715  G-2715       WC-2022  2022 FIFA World Cup  M-2022-64   \n",
              "2715    2716  G-2716       WC-2022  2022 FIFA World Cup  M-2022-64   \n",
              "2716    2717  G-2717       WC-2022  2022 FIFA World Cup  M-2022-64   \n",
              "2717    2718  G-2718       WC-2022  2022 FIFA World Cup  M-2022-64   \n",
              "2718    2719  G-2719       WC-2022  2022 FIFA World Cup  M-2022-64   \n",
              "2719    2720  G-2720       WC-2022  2022 FIFA World Cup  M-2022-64   \n",
              "\n",
              "              match_name  match_date         stage_name      group_name  \\\n",
              "2710    France v Morocco  12/14/2022        semi-finals  not applicable   \n",
              "2711   Croatia v Morocco  12/17/2022  third-place match  not applicable   \n",
              "2712   Croatia v Morocco  12/17/2022  third-place match  not applicable   \n",
              "2713   Croatia v Morocco  12/17/2022  third-place match  not applicable   \n",
              "2714  Argentina v France  12/18/2022              final  not applicable   \n",
              "2715  Argentina v France  12/18/2022              final  not applicable   \n",
              "2716  Argentina v France  12/18/2022              final  not applicable   \n",
              "2717  Argentina v France  12/18/2022              final  not applicable   \n",
              "2718  Argentina v France  12/18/2022              final  not applicable   \n",
              "2719  Argentina v France  12/18/2022              final  not applicable   \n",
              "\n",
              "     team_id  ... shirt_number player_team_id  player_team_name  \\\n",
              "2710    T-28  ...           12           T-28            France   \n",
              "2711    T-17  ...           20           T-17           Croatia   \n",
              "2712    T-45  ...           20           T-45           Morocco   \n",
              "2713    T-17  ...           18           T-17           Croatia   \n",
              "2714    T-03  ...           10           T-03         Argentina   \n",
              "2715    T-03  ...           11           T-03         Argentina   \n",
              "2716    T-28  ...           10           T-28            France   \n",
              "2717    T-28  ...           10           T-28            France   \n",
              "2718    T-03  ...           10           T-03         Argentina   \n",
              "2719    T-28  ...           10           T-28            France   \n",
              "\n",
              "      player_team_code minute_label minute_regulation minute_stoppage  \\\n",
              "2710               FRA          79'                79               0   \n",
              "2711               HRV           7'                 7               0   \n",
              "2712               MAR           9'                 9               0   \n",
              "2713               HRV          42'                42               0   \n",
              "2714               ARG          23'                23               0   \n",
              "2715               ARG          36'                36               0   \n",
              "2716               FRA          80'                80               0   \n",
              "2717               FRA          81'                81               0   \n",
              "2718               ARG         108'               108               0   \n",
              "2719               FRA         118'               118               0   \n",
              "\n",
              "                 match_period own_goal penalty  \n",
              "2710              second half        0       0  \n",
              "2711               first half        0       0  \n",
              "2712               first half        0       0  \n",
              "2713               first half        0       0  \n",
              "2714               first half        0       1  \n",
              "2715               first half        0       0  \n",
              "2716              second half        0       1  \n",
              "2717              second half        0       0  \n",
              "2718  extra time, second half        0       0  \n",
              "2719  extra time, second half        0       1  \n",
              "\n",
              "[10 rows x 27 columns]"
            ],
            "text/html": [
              "\n",
              "  <div id=\"df-d51e3e96-0c58-4ffd-a546-71cfe076d656\" class=\"colab-df-container\">\n",
              "    <div>\n",
              "<style scoped>\n",
              "    .dataframe tbody tr th:only-of-type {\n",
              "        vertical-align: middle;\n",
              "    }\n",
              "\n",
              "    .dataframe tbody tr th {\n",
              "        vertical-align: top;\n",
              "    }\n",
              "\n",
              "    .dataframe thead th {\n",
              "        text-align: right;\n",
              "    }\n",
              "</style>\n",
              "<table border=\"1\" class=\"dataframe\">\n",
              "  <thead>\n",
              "    <tr style=\"text-align: right;\">\n",
              "      <th></th>\n",
              "      <th>key_id</th>\n",
              "      <th>goal_id</th>\n",
              "      <th>tournament_id</th>\n",
              "      <th>tournament_name</th>\n",
              "      <th>match_id</th>\n",
              "      <th>match_name</th>\n",
              "      <th>match_date</th>\n",
              "      <th>stage_name</th>\n",
              "      <th>group_name</th>\n",
              "      <th>team_id</th>\n",
              "      <th>...</th>\n",
              "      <th>shirt_number</th>\n",
              "      <th>player_team_id</th>\n",
              "      <th>player_team_name</th>\n",
              "      <th>player_team_code</th>\n",
              "      <th>minute_label</th>\n",
              "      <th>minute_regulation</th>\n",
              "      <th>minute_stoppage</th>\n",
              "      <th>match_period</th>\n",
              "      <th>own_goal</th>\n",
              "      <th>penalty</th>\n",
              "    </tr>\n",
              "  </thead>\n",
              "  <tbody>\n",
              "    <tr>\n",
              "      <th>2710</th>\n",
              "      <td>2711</td>\n",
              "      <td>G-2711</td>\n",
              "      <td>WC-2022</td>\n",
              "      <td>2022 FIFA World Cup</td>\n",
              "      <td>M-2022-62</td>\n",
              "      <td>France v Morocco</td>\n",
              "      <td>12/14/2022</td>\n",
              "      <td>semi-finals</td>\n",
              "      <td>not applicable</td>\n",
              "      <td>T-28</td>\n",
              "      <td>...</td>\n",
              "      <td>12</td>\n",
              "      <td>T-28</td>\n",
              "      <td>France</td>\n",
              "      <td>FRA</td>\n",
              "      <td>79'</td>\n",
              "      <td>79</td>\n",
              "      <td>0</td>\n",
              "      <td>second half</td>\n",
              "      <td>0</td>\n",
              "      <td>0</td>\n",
              "    </tr>\n",
              "    <tr>\n",
              "      <th>2711</th>\n",
              "      <td>2712</td>\n",
              "      <td>G-2712</td>\n",
              "      <td>WC-2022</td>\n",
              "      <td>2022 FIFA World Cup</td>\n",
              "      <td>M-2022-63</td>\n",
              "      <td>Croatia v Morocco</td>\n",
              "      <td>12/17/2022</td>\n",
              "      <td>third-place match</td>\n",
              "      <td>not applicable</td>\n",
              "      <td>T-17</td>\n",
              "      <td>...</td>\n",
              "      <td>20</td>\n",
              "      <td>T-17</td>\n",
              "      <td>Croatia</td>\n",
              "      <td>HRV</td>\n",
              "      <td>7'</td>\n",
              "      <td>7</td>\n",
              "      <td>0</td>\n",
              "      <td>first half</td>\n",
              "      <td>0</td>\n",
              "      <td>0</td>\n",
              "    </tr>\n",
              "    <tr>\n",
              "      <th>2712</th>\n",
              "      <td>2713</td>\n",
              "      <td>G-2713</td>\n",
              "      <td>WC-2022</td>\n",
              "      <td>2022 FIFA World Cup</td>\n",
              "      <td>M-2022-63</td>\n",
              "      <td>Croatia v Morocco</td>\n",
              "      <td>12/17/2022</td>\n",
              "      <td>third-place match</td>\n",
              "      <td>not applicable</td>\n",
              "      <td>T-45</td>\n",
              "      <td>...</td>\n",
              "      <td>20</td>\n",
              "      <td>T-45</td>\n",
              "      <td>Morocco</td>\n",
              "      <td>MAR</td>\n",
              "      <td>9'</td>\n",
              "      <td>9</td>\n",
              "      <td>0</td>\n",
              "      <td>first half</td>\n",
              "      <td>0</td>\n",
              "      <td>0</td>\n",
              "    </tr>\n",
              "    <tr>\n",
              "      <th>2713</th>\n",
              "      <td>2714</td>\n",
              "      <td>G-2714</td>\n",
              "      <td>WC-2022</td>\n",
              "      <td>2022 FIFA World Cup</td>\n",
              "      <td>M-2022-63</td>\n",
              "      <td>Croatia v Morocco</td>\n",
              "      <td>12/17/2022</td>\n",
              "      <td>third-place match</td>\n",
              "      <td>not applicable</td>\n",
              "      <td>T-17</td>\n",
              "      <td>...</td>\n",
              "      <td>18</td>\n",
              "      <td>T-17</td>\n",
              "      <td>Croatia</td>\n",
              "      <td>HRV</td>\n",
              "      <td>42'</td>\n",
              "      <td>42</td>\n",
              "      <td>0</td>\n",
              "      <td>first half</td>\n",
              "      <td>0</td>\n",
              "      <td>0</td>\n",
              "    </tr>\n",
              "    <tr>\n",
              "      <th>2714</th>\n",
              "      <td>2715</td>\n",
              "      <td>G-2715</td>\n",
              "      <td>WC-2022</td>\n",
              "      <td>2022 FIFA World Cup</td>\n",
              "      <td>M-2022-64</td>\n",
              "      <td>Argentina v France</td>\n",
              "      <td>12/18/2022</td>\n",
              "      <td>final</td>\n",
              "      <td>not applicable</td>\n",
              "      <td>T-03</td>\n",
              "      <td>...</td>\n",
              "      <td>10</td>\n",
              "      <td>T-03</td>\n",
              "      <td>Argentina</td>\n",
              "      <td>ARG</td>\n",
              "      <td>23'</td>\n",
              "      <td>23</td>\n",
              "      <td>0</td>\n",
              "      <td>first half</td>\n",
              "      <td>0</td>\n",
              "      <td>1</td>\n",
              "    </tr>\n",
              "    <tr>\n",
              "      <th>2715</th>\n",
              "      <td>2716</td>\n",
              "      <td>G-2716</td>\n",
              "      <td>WC-2022</td>\n",
              "      <td>2022 FIFA World Cup</td>\n",
              "      <td>M-2022-64</td>\n",
              "      <td>Argentina v France</td>\n",
              "      <td>12/18/2022</td>\n",
              "      <td>final</td>\n",
              "      <td>not applicable</td>\n",
              "      <td>T-03</td>\n",
              "      <td>...</td>\n",
              "      <td>11</td>\n",
              "      <td>T-03</td>\n",
              "      <td>Argentina</td>\n",
              "      <td>ARG</td>\n",
              "      <td>36'</td>\n",
              "      <td>36</td>\n",
              "      <td>0</td>\n",
              "      <td>first half</td>\n",
              "      <td>0</td>\n",
              "      <td>0</td>\n",
              "    </tr>\n",
              "    <tr>\n",
              "      <th>2716</th>\n",
              "      <td>2717</td>\n",
              "      <td>G-2717</td>\n",
              "      <td>WC-2022</td>\n",
              "      <td>2022 FIFA World Cup</td>\n",
              "      <td>M-2022-64</td>\n",
              "      <td>Argentina v France</td>\n",
              "      <td>12/18/2022</td>\n",
              "      <td>final</td>\n",
              "      <td>not applicable</td>\n",
              "      <td>T-28</td>\n",
              "      <td>...</td>\n",
              "      <td>10</td>\n",
              "      <td>T-28</td>\n",
              "      <td>France</td>\n",
              "      <td>FRA</td>\n",
              "      <td>80'</td>\n",
              "      <td>80</td>\n",
              "      <td>0</td>\n",
              "      <td>second half</td>\n",
              "      <td>0</td>\n",
              "      <td>1</td>\n",
              "    </tr>\n",
              "    <tr>\n",
              "      <th>2717</th>\n",
              "      <td>2718</td>\n",
              "      <td>G-2718</td>\n",
              "      <td>WC-2022</td>\n",
              "      <td>2022 FIFA World Cup</td>\n",
              "      <td>M-2022-64</td>\n",
              "      <td>Argentina v France</td>\n",
              "      <td>12/18/2022</td>\n",
              "      <td>final</td>\n",
              "      <td>not applicable</td>\n",
              "      <td>T-28</td>\n",
              "      <td>...</td>\n",
              "      <td>10</td>\n",
              "      <td>T-28</td>\n",
              "      <td>France</td>\n",
              "      <td>FRA</td>\n",
              "      <td>81'</td>\n",
              "      <td>81</td>\n",
              "      <td>0</td>\n",
              "      <td>second half</td>\n",
              "      <td>0</td>\n",
              "      <td>0</td>\n",
              "    </tr>\n",
              "    <tr>\n",
              "      <th>2718</th>\n",
              "      <td>2719</td>\n",
              "      <td>G-2719</td>\n",
              "      <td>WC-2022</td>\n",
              "      <td>2022 FIFA World Cup</td>\n",
              "      <td>M-2022-64</td>\n",
              "      <td>Argentina v France</td>\n",
              "      <td>12/18/2022</td>\n",
              "      <td>final</td>\n",
              "      <td>not applicable</td>\n",
              "      <td>T-03</td>\n",
              "      <td>...</td>\n",
              "      <td>10</td>\n",
              "      <td>T-03</td>\n",
              "      <td>Argentina</td>\n",
              "      <td>ARG</td>\n",
              "      <td>108'</td>\n",
              "      <td>108</td>\n",
              "      <td>0</td>\n",
              "      <td>extra time, second half</td>\n",
              "      <td>0</td>\n",
              "      <td>0</td>\n",
              "    </tr>\n",
              "    <tr>\n",
              "      <th>2719</th>\n",
              "      <td>2720</td>\n",
              "      <td>G-2720</td>\n",
              "      <td>WC-2022</td>\n",
              "      <td>2022 FIFA World Cup</td>\n",
              "      <td>M-2022-64</td>\n",
              "      <td>Argentina v France</td>\n",
              "      <td>12/18/2022</td>\n",
              "      <td>final</td>\n",
              "      <td>not applicable</td>\n",
              "      <td>T-28</td>\n",
              "      <td>...</td>\n",
              "      <td>10</td>\n",
              "      <td>T-28</td>\n",
              "      <td>France</td>\n",
              "      <td>FRA</td>\n",
              "      <td>118'</td>\n",
              "      <td>118</td>\n",
              "      <td>0</td>\n",
              "      <td>extra time, second half</td>\n",
              "      <td>0</td>\n",
              "      <td>1</td>\n",
              "    </tr>\n",
              "  </tbody>\n",
              "</table>\n",
              "<p>10 rows × 27 columns</p>\n",
              "</div>\n",
              "    <div class=\"colab-df-buttons\">\n",
              "\n",
              "  <div class=\"colab-df-container\">\n",
              "    <button class=\"colab-df-convert\" onclick=\"convertToInteractive('df-d51e3e96-0c58-4ffd-a546-71cfe076d656')\"\n",
              "            title=\"Convert this dataframe to an interactive table.\"\n",
              "            style=\"display:none;\">\n",
              "\n",
              "  <svg xmlns=\"http://www.w3.org/2000/svg\" height=\"24px\" viewBox=\"0 -960 960 960\">\n",
              "    <path d=\"M120-120v-720h720v720H120Zm60-500h600v-160H180v160Zm220 220h160v-160H400v160Zm0 220h160v-160H400v160ZM180-400h160v-160H180v160Zm440 0h160v-160H620v160ZM180-180h160v-160H180v160Zm440 0h160v-160H620v160Z\"/>\n",
              "  </svg>\n",
              "    </button>\n",
              "\n",
              "  <style>\n",
              "    .colab-df-container {\n",
              "      display:flex;\n",
              "      gap: 12px;\n",
              "    }\n",
              "\n",
              "    .colab-df-convert {\n",
              "      background-color: #E8F0FE;\n",
              "      border: none;\n",
              "      border-radius: 50%;\n",
              "      cursor: pointer;\n",
              "      display: none;\n",
              "      fill: #1967D2;\n",
              "      height: 32px;\n",
              "      padding: 0 0 0 0;\n",
              "      width: 32px;\n",
              "    }\n",
              "\n",
              "    .colab-df-convert:hover {\n",
              "      background-color: #E2EBFA;\n",
              "      box-shadow: 0px 1px 2px rgba(60, 64, 67, 0.3), 0px 1px 3px 1px rgba(60, 64, 67, 0.15);\n",
              "      fill: #174EA6;\n",
              "    }\n",
              "\n",
              "    .colab-df-buttons div {\n",
              "      margin-bottom: 4px;\n",
              "    }\n",
              "\n",
              "    [theme=dark] .colab-df-convert {\n",
              "      background-color: #3B4455;\n",
              "      fill: #D2E3FC;\n",
              "    }\n",
              "\n",
              "    [theme=dark] .colab-df-convert:hover {\n",
              "      background-color: #434B5C;\n",
              "      box-shadow: 0px 1px 3px 1px rgba(0, 0, 0, 0.15);\n",
              "      filter: drop-shadow(0px 1px 2px rgba(0, 0, 0, 0.3));\n",
              "      fill: #FFFFFF;\n",
              "    }\n",
              "  </style>\n",
              "\n",
              "    <script>\n",
              "      const buttonEl =\n",
              "        document.querySelector('#df-d51e3e96-0c58-4ffd-a546-71cfe076d656 button.colab-df-convert');\n",
              "      buttonEl.style.display =\n",
              "        google.colab.kernel.accessAllowed ? 'block' : 'none';\n",
              "\n",
              "      async function convertToInteractive(key) {\n",
              "        const element = document.querySelector('#df-d51e3e96-0c58-4ffd-a546-71cfe076d656');\n",
              "        const dataTable =\n",
              "          await google.colab.kernel.invokeFunction('convertToInteractive',\n",
              "                                                    [key], {});\n",
              "        if (!dataTable) return;\n",
              "\n",
              "        const docLinkHtml = 'Like what you see? Visit the ' +\n",
              "          '<a target=\"_blank\" href=https://colab.research.google.com/notebooks/data_table.ipynb>data table notebook</a>'\n",
              "          + ' to learn more about interactive tables.';\n",
              "        element.innerHTML = '';\n",
              "        dataTable['output_type'] = 'display_data';\n",
              "        await google.colab.output.renderOutput(dataTable, element);\n",
              "        const docLink = document.createElement('div');\n",
              "        docLink.innerHTML = docLinkHtml;\n",
              "        element.appendChild(docLink);\n",
              "      }\n",
              "    </script>\n",
              "  </div>\n",
              "\n",
              "\n",
              "<div id=\"df-17443dc2-9640-44ef-956c-a23b4f640ddd\">\n",
              "  <button class=\"colab-df-quickchart\" onclick=\"quickchart('df-17443dc2-9640-44ef-956c-a23b4f640ddd')\"\n",
              "            title=\"Suggest charts\"\n",
              "            style=\"display:none;\">\n",
              "\n",
              "<svg xmlns=\"http://www.w3.org/2000/svg\" height=\"24px\"viewBox=\"0 0 24 24\"\n",
              "     width=\"24px\">\n",
              "    <g>\n",
              "        <path d=\"M19 3H5c-1.1 0-2 .9-2 2v14c0 1.1.9 2 2 2h14c1.1 0 2-.9 2-2V5c0-1.1-.9-2-2-2zM9 17H7v-7h2v7zm4 0h-2V7h2v10zm4 0h-2v-4h2v4z\"/>\n",
              "    </g>\n",
              "</svg>\n",
              "  </button>\n",
              "\n",
              "<style>\n",
              "  .colab-df-quickchart {\n",
              "      --bg-color: #E8F0FE;\n",
              "      --fill-color: #1967D2;\n",
              "      --hover-bg-color: #E2EBFA;\n",
              "      --hover-fill-color: #174EA6;\n",
              "      --disabled-fill-color: #AAA;\n",
              "      --disabled-bg-color: #DDD;\n",
              "  }\n",
              "\n",
              "  [theme=dark] .colab-df-quickchart {\n",
              "      --bg-color: #3B4455;\n",
              "      --fill-color: #D2E3FC;\n",
              "      --hover-bg-color: #434B5C;\n",
              "      --hover-fill-color: #FFFFFF;\n",
              "      --disabled-bg-color: #3B4455;\n",
              "      --disabled-fill-color: #666;\n",
              "  }\n",
              "\n",
              "  .colab-df-quickchart {\n",
              "    background-color: var(--bg-color);\n",
              "    border: none;\n",
              "    border-radius: 50%;\n",
              "    cursor: pointer;\n",
              "    display: none;\n",
              "    fill: var(--fill-color);\n",
              "    height: 32px;\n",
              "    padding: 0;\n",
              "    width: 32px;\n",
              "  }\n",
              "\n",
              "  .colab-df-quickchart:hover {\n",
              "    background-color: var(--hover-bg-color);\n",
              "    box-shadow: 0 1px 2px rgba(60, 64, 67, 0.3), 0 1px 3px 1px rgba(60, 64, 67, 0.15);\n",
              "    fill: var(--button-hover-fill-color);\n",
              "  }\n",
              "\n",
              "  .colab-df-quickchart-complete:disabled,\n",
              "  .colab-df-quickchart-complete:disabled:hover {\n",
              "    background-color: var(--disabled-bg-color);\n",
              "    fill: var(--disabled-fill-color);\n",
              "    box-shadow: none;\n",
              "  }\n",
              "\n",
              "  .colab-df-spinner {\n",
              "    border: 2px solid var(--fill-color);\n",
              "    border-color: transparent;\n",
              "    border-bottom-color: var(--fill-color);\n",
              "    animation:\n",
              "      spin 1s steps(1) infinite;\n",
              "  }\n",
              "\n",
              "  @keyframes spin {\n",
              "    0% {\n",
              "      border-color: transparent;\n",
              "      border-bottom-color: var(--fill-color);\n",
              "      border-left-color: var(--fill-color);\n",
              "    }\n",
              "    20% {\n",
              "      border-color: transparent;\n",
              "      border-left-color: var(--fill-color);\n",
              "      border-top-color: var(--fill-color);\n",
              "    }\n",
              "    30% {\n",
              "      border-color: transparent;\n",
              "      border-left-color: var(--fill-color);\n",
              "      border-top-color: var(--fill-color);\n",
              "      border-right-color: var(--fill-color);\n",
              "    }\n",
              "    40% {\n",
              "      border-color: transparent;\n",
              "      border-right-color: var(--fill-color);\n",
              "      border-top-color: var(--fill-color);\n",
              "    }\n",
              "    60% {\n",
              "      border-color: transparent;\n",
              "      border-right-color: var(--fill-color);\n",
              "    }\n",
              "    80% {\n",
              "      border-color: transparent;\n",
              "      border-right-color: var(--fill-color);\n",
              "      border-bottom-color: var(--fill-color);\n",
              "    }\n",
              "    90% {\n",
              "      border-color: transparent;\n",
              "      border-bottom-color: var(--fill-color);\n",
              "    }\n",
              "  }\n",
              "</style>\n",
              "\n",
              "  <script>\n",
              "    async function quickchart(key) {\n",
              "      const quickchartButtonEl =\n",
              "        document.querySelector('#' + key + ' button');\n",
              "      quickchartButtonEl.disabled = true;  // To prevent multiple clicks.\n",
              "      quickchartButtonEl.classList.add('colab-df-spinner');\n",
              "      try {\n",
              "        const charts = await google.colab.kernel.invokeFunction(\n",
              "            'suggestCharts', [key], {});\n",
              "      } catch (error) {\n",
              "        console.error('Error during call to suggestCharts:', error);\n",
              "      }\n",
              "      quickchartButtonEl.classList.remove('colab-df-spinner');\n",
              "      quickchartButtonEl.classList.add('colab-df-quickchart-complete');\n",
              "    }\n",
              "    (() => {\n",
              "      let quickchartButtonEl =\n",
              "        document.querySelector('#df-17443dc2-9640-44ef-956c-a23b4f640ddd button');\n",
              "      quickchartButtonEl.style.display =\n",
              "        google.colab.kernel.accessAllowed ? 'block' : 'none';\n",
              "    })();\n",
              "  </script>\n",
              "</div>\n",
              "    </div>\n",
              "  </div>\n"
            ],
            "application/vnd.google.colaboratory.intrinsic+json": {
              "type": "dataframe"
            }
          },
          "metadata": {},
          "execution_count": 4
        }
      ]
    },
    {
      "cell_type": "markdown",
      "source": [
        "Тут как раз записи с последнего чемпионата мира. В последних 6 мы видим данные по легендарному финалу между Аргентиной и Францией"
      ],
      "metadata": {
        "id": "z7dF_Cq8shMZ"
      }
    },
    {
      "cell_type": "markdown",
      "source": [
        "Посмортим, сколько у нас всего записей"
      ],
      "metadata": {
        "id": "bftvSpqZs3jv"
      }
    },
    {
      "cell_type": "code",
      "source": [
        "df.shape"
      ],
      "metadata": {
        "colab": {
          "base_uri": "https://localhost:8080/"
        },
        "id": "C-nZzrpNsg3y",
        "outputId": "837b20ef-a317-47bf-949e-f93b9ce68a92"
      },
      "execution_count": 5,
      "outputs": [
        {
          "output_type": "execute_result",
          "data": {
            "text/plain": [
              "(2720, 27)"
            ]
          },
          "metadata": {},
          "execution_count": 5
        }
      ]
    },
    {
      "cell_type": "markdown",
      "source": [
        "Всего на чемпионатах мира было забито 2720 гола и мы имеем 27 различных статистических показателей по этим голам\n",
        "###Давайте найдем несколько интресеных фактов про чемпионаты мира. Начнем с \"топ лучших\""
      ],
      "metadata": {
        "id": "AhlQP68QLWSS"
      }
    },
    {
      "cell_type": "markdown",
      "source": [
        "## Топ 10 команд по голам"
      ],
      "metadata": {
        "id": "kHnh8ryHL39X"
      }
    },
    {
      "cell_type": "markdown",
      "source": [
        "Для начал посмотрим на все уникальные названия команд"
      ],
      "metadata": {
        "id": "BUnjH-iKMCWm"
      }
    },
    {
      "cell_type": "code",
      "source": [
        "df['team_name'].unique()"
      ],
      "metadata": {
        "colab": {
          "base_uri": "https://localhost:8080/"
        },
        "id": "CrFgyIcQsaA8",
        "outputId": "b4b565c0-6a73-4a95-8731-1ae33b282383"
      },
      "execution_count": 6,
      "outputs": [
        {
          "output_type": "execute_result",
          "data": {
            "text/plain": [
              "array(['France', 'Mexico', 'United States', 'Yugoslavia', 'Brazil',\n",
              "       'Romania', 'Peru', 'Argentina', 'Chile', 'Uruguay', 'Paraguay',\n",
              "       'Austria', 'Czechoslovakia', 'Germany', 'Belgium', 'Hungary',\n",
              "       'Egypt', 'Italy', 'Spain', 'Sweden', 'Switzerland', 'Netherlands',\n",
              "       'Cuba', 'Norway', 'Poland', 'England', 'Turkey', 'West Germany',\n",
              "       'Northern Ireland', 'Scotland', 'Wales', 'Soviet Union',\n",
              "       'Colombia', 'Bulgaria', 'Portugal', 'North Korea', 'Morocco',\n",
              "       'Israel', 'East Germany', 'Haiti', 'Tunisia', 'Iran',\n",
              "       'El Salvador', 'New Zealand', 'Algeria', 'Honduras', 'Kuwait',\n",
              "       'Cameroon', 'South Korea', 'Denmark', 'Iraq', 'Costa Rica',\n",
              "       'Republic of Ireland', 'United Arab Emirates', 'Saudi Arabia',\n",
              "       'Nigeria', 'Russia', 'Bolivia', 'Croatia', 'Jamaica',\n",
              "       'South Africa', 'Japan', 'Senegal', 'Slovenia', 'Ecuador',\n",
              "       'Ivory Coast', 'Australia', 'Czech Republic', 'Togo', 'Ghana',\n",
              "       'Ukraine', 'Angola', 'Serbia and Montenegro', 'Slovakia', 'Greece',\n",
              "       'Serbia', 'Bosnia and Herzegovina', 'Iceland', 'Panama', 'Qatar',\n",
              "       'Canada'], dtype=object)"
            ]
          },
          "metadata": {},
          "execution_count": 6
        }
      ]
    },
    {
      "cell_type": "markdown",
      "source": [
        "Чемпионаты мира проводятся уже практически целый век, поэтому некоторые сборные переименовывались в связи с политическими причинами. Здесь мы можем видеть, что сборная Германии представляется в трех видах в разное время: восточная Германия, западная Германия и Германия (наше время). Давайте переименуем восточную и северную Германию в Германию в полях 'player_team_name' и 'team_name'"
      ],
      "metadata": {
        "id": "R2Fl2oc1MLrk"
      }
    },
    {
      "cell_type": "code",
      "source": [
        "df['player_team_name'] = df['player_team_name'].apply(lambda x: 'Germany' if x == 'East Germany' or x == 'West Germany' else x)\n",
        "df['team_name'] = df['team_name'].apply(lambda x: 'Germany' if x == 'East Germany' or x == 'West Germany' else x)"
      ],
      "metadata": {
        "id": "ODoxOOj8MK5d"
      },
      "execution_count": 7,
      "outputs": []
    },
    {
      "cell_type": "markdown",
      "source": [
        "Чтобы найти информацию по топ 10 сборным по голам сгруппируем данные по 'player_team_name', добавим аггрегацию count и переименуем колонки, а затем отсортируем от большего к меньшему"
      ],
      "metadata": {
        "id": "ZMinBY1EQlQr"
      }
    },
    {
      "cell_type": "code",
      "source": [
        "team_goals_all_time = df.groupby('player_team_name', as_index=False).agg({'goal_id': 'count'}).rename(columns={'goal_id':'total_goals', 'player_team_name': 'team_name'})\n",
        "team_goals_all_time = team_goals_all_time.sort_values(by='total_goals', ascending=False)"
      ],
      "metadata": {
        "id": "xGMhh2oeQJOP"
      },
      "execution_count": 8,
      "outputs": []
    },
    {
      "cell_type": "markdown",
      "source": [
        "Возьмем топ 10"
      ],
      "metadata": {
        "id": "6VgaCN56RHp1"
      }
    },
    {
      "cell_type": "code",
      "source": [
        "top_10_team_goals = team_goals_all_time.head(10)\n",
        "top_10_team_goals"
      ],
      "metadata": {
        "colab": {
          "base_uri": "https://localhost:8080/",
          "height": 363
        },
        "id": "dKwX5-URRDXf",
        "outputId": "61a60eac-98a4-4eca-d322-3e73709181a5"
      },
      "execution_count": 9,
      "outputs": [
        {
          "output_type": "execute_result",
          "data": {
            "text/plain": [
              "      team_name  total_goals\n",
              "8        Brazil          238\n",
              "25      Germany          233\n",
              "2     Argentina          152\n",
              "24       France          130\n",
              "35        Italy          125\n",
              "67        Spain          108\n",
              "23      England          103\n",
              "42  Netherlands           97\n",
              "77      Uruguay           89\n",
              "30      Hungary           86"
            ],
            "text/html": [
              "\n",
              "  <div id=\"df-f70b4304-5220-4f7d-84c6-345f93d082ff\" class=\"colab-df-container\">\n",
              "    <div>\n",
              "<style scoped>\n",
              "    .dataframe tbody tr th:only-of-type {\n",
              "        vertical-align: middle;\n",
              "    }\n",
              "\n",
              "    .dataframe tbody tr th {\n",
              "        vertical-align: top;\n",
              "    }\n",
              "\n",
              "    .dataframe thead th {\n",
              "        text-align: right;\n",
              "    }\n",
              "</style>\n",
              "<table border=\"1\" class=\"dataframe\">\n",
              "  <thead>\n",
              "    <tr style=\"text-align: right;\">\n",
              "      <th></th>\n",
              "      <th>team_name</th>\n",
              "      <th>total_goals</th>\n",
              "    </tr>\n",
              "  </thead>\n",
              "  <tbody>\n",
              "    <tr>\n",
              "      <th>8</th>\n",
              "      <td>Brazil</td>\n",
              "      <td>238</td>\n",
              "    </tr>\n",
              "    <tr>\n",
              "      <th>25</th>\n",
              "      <td>Germany</td>\n",
              "      <td>233</td>\n",
              "    </tr>\n",
              "    <tr>\n",
              "      <th>2</th>\n",
              "      <td>Argentina</td>\n",
              "      <td>152</td>\n",
              "    </tr>\n",
              "    <tr>\n",
              "      <th>24</th>\n",
              "      <td>France</td>\n",
              "      <td>130</td>\n",
              "    </tr>\n",
              "    <tr>\n",
              "      <th>35</th>\n",
              "      <td>Italy</td>\n",
              "      <td>125</td>\n",
              "    </tr>\n",
              "    <tr>\n",
              "      <th>67</th>\n",
              "      <td>Spain</td>\n",
              "      <td>108</td>\n",
              "    </tr>\n",
              "    <tr>\n",
              "      <th>23</th>\n",
              "      <td>England</td>\n",
              "      <td>103</td>\n",
              "    </tr>\n",
              "    <tr>\n",
              "      <th>42</th>\n",
              "      <td>Netherlands</td>\n",
              "      <td>97</td>\n",
              "    </tr>\n",
              "    <tr>\n",
              "      <th>77</th>\n",
              "      <td>Uruguay</td>\n",
              "      <td>89</td>\n",
              "    </tr>\n",
              "    <tr>\n",
              "      <th>30</th>\n",
              "      <td>Hungary</td>\n",
              "      <td>86</td>\n",
              "    </tr>\n",
              "  </tbody>\n",
              "</table>\n",
              "</div>\n",
              "    <div class=\"colab-df-buttons\">\n",
              "\n",
              "  <div class=\"colab-df-container\">\n",
              "    <button class=\"colab-df-convert\" onclick=\"convertToInteractive('df-f70b4304-5220-4f7d-84c6-345f93d082ff')\"\n",
              "            title=\"Convert this dataframe to an interactive table.\"\n",
              "            style=\"display:none;\">\n",
              "\n",
              "  <svg xmlns=\"http://www.w3.org/2000/svg\" height=\"24px\" viewBox=\"0 -960 960 960\">\n",
              "    <path d=\"M120-120v-720h720v720H120Zm60-500h600v-160H180v160Zm220 220h160v-160H400v160Zm0 220h160v-160H400v160ZM180-400h160v-160H180v160Zm440 0h160v-160H620v160ZM180-180h160v-160H180v160Zm440 0h160v-160H620v160Z\"/>\n",
              "  </svg>\n",
              "    </button>\n",
              "\n",
              "  <style>\n",
              "    .colab-df-container {\n",
              "      display:flex;\n",
              "      gap: 12px;\n",
              "    }\n",
              "\n",
              "    .colab-df-convert {\n",
              "      background-color: #E8F0FE;\n",
              "      border: none;\n",
              "      border-radius: 50%;\n",
              "      cursor: pointer;\n",
              "      display: none;\n",
              "      fill: #1967D2;\n",
              "      height: 32px;\n",
              "      padding: 0 0 0 0;\n",
              "      width: 32px;\n",
              "    }\n",
              "\n",
              "    .colab-df-convert:hover {\n",
              "      background-color: #E2EBFA;\n",
              "      box-shadow: 0px 1px 2px rgba(60, 64, 67, 0.3), 0px 1px 3px 1px rgba(60, 64, 67, 0.15);\n",
              "      fill: #174EA6;\n",
              "    }\n",
              "\n",
              "    .colab-df-buttons div {\n",
              "      margin-bottom: 4px;\n",
              "    }\n",
              "\n",
              "    [theme=dark] .colab-df-convert {\n",
              "      background-color: #3B4455;\n",
              "      fill: #D2E3FC;\n",
              "    }\n",
              "\n",
              "    [theme=dark] .colab-df-convert:hover {\n",
              "      background-color: #434B5C;\n",
              "      box-shadow: 0px 1px 3px 1px rgba(0, 0, 0, 0.15);\n",
              "      filter: drop-shadow(0px 1px 2px rgba(0, 0, 0, 0.3));\n",
              "      fill: #FFFFFF;\n",
              "    }\n",
              "  </style>\n",
              "\n",
              "    <script>\n",
              "      const buttonEl =\n",
              "        document.querySelector('#df-f70b4304-5220-4f7d-84c6-345f93d082ff button.colab-df-convert');\n",
              "      buttonEl.style.display =\n",
              "        google.colab.kernel.accessAllowed ? 'block' : 'none';\n",
              "\n",
              "      async function convertToInteractive(key) {\n",
              "        const element = document.querySelector('#df-f70b4304-5220-4f7d-84c6-345f93d082ff');\n",
              "        const dataTable =\n",
              "          await google.colab.kernel.invokeFunction('convertToInteractive',\n",
              "                                                    [key], {});\n",
              "        if (!dataTable) return;\n",
              "\n",
              "        const docLinkHtml = 'Like what you see? Visit the ' +\n",
              "          '<a target=\"_blank\" href=https://colab.research.google.com/notebooks/data_table.ipynb>data table notebook</a>'\n",
              "          + ' to learn more about interactive tables.';\n",
              "        element.innerHTML = '';\n",
              "        dataTable['output_type'] = 'display_data';\n",
              "        await google.colab.output.renderOutput(dataTable, element);\n",
              "        const docLink = document.createElement('div');\n",
              "        docLink.innerHTML = docLinkHtml;\n",
              "        element.appendChild(docLink);\n",
              "      }\n",
              "    </script>\n",
              "  </div>\n",
              "\n",
              "\n",
              "<div id=\"df-0ba67e13-e068-45bb-be6e-c99351d2321f\">\n",
              "  <button class=\"colab-df-quickchart\" onclick=\"quickchart('df-0ba67e13-e068-45bb-be6e-c99351d2321f')\"\n",
              "            title=\"Suggest charts\"\n",
              "            style=\"display:none;\">\n",
              "\n",
              "<svg xmlns=\"http://www.w3.org/2000/svg\" height=\"24px\"viewBox=\"0 0 24 24\"\n",
              "     width=\"24px\">\n",
              "    <g>\n",
              "        <path d=\"M19 3H5c-1.1 0-2 .9-2 2v14c0 1.1.9 2 2 2h14c1.1 0 2-.9 2-2V5c0-1.1-.9-2-2-2zM9 17H7v-7h2v7zm4 0h-2V7h2v10zm4 0h-2v-4h2v4z\"/>\n",
              "    </g>\n",
              "</svg>\n",
              "  </button>\n",
              "\n",
              "<style>\n",
              "  .colab-df-quickchart {\n",
              "      --bg-color: #E8F0FE;\n",
              "      --fill-color: #1967D2;\n",
              "      --hover-bg-color: #E2EBFA;\n",
              "      --hover-fill-color: #174EA6;\n",
              "      --disabled-fill-color: #AAA;\n",
              "      --disabled-bg-color: #DDD;\n",
              "  }\n",
              "\n",
              "  [theme=dark] .colab-df-quickchart {\n",
              "      --bg-color: #3B4455;\n",
              "      --fill-color: #D2E3FC;\n",
              "      --hover-bg-color: #434B5C;\n",
              "      --hover-fill-color: #FFFFFF;\n",
              "      --disabled-bg-color: #3B4455;\n",
              "      --disabled-fill-color: #666;\n",
              "  }\n",
              "\n",
              "  .colab-df-quickchart {\n",
              "    background-color: var(--bg-color);\n",
              "    border: none;\n",
              "    border-radius: 50%;\n",
              "    cursor: pointer;\n",
              "    display: none;\n",
              "    fill: var(--fill-color);\n",
              "    height: 32px;\n",
              "    padding: 0;\n",
              "    width: 32px;\n",
              "  }\n",
              "\n",
              "  .colab-df-quickchart:hover {\n",
              "    background-color: var(--hover-bg-color);\n",
              "    box-shadow: 0 1px 2px rgba(60, 64, 67, 0.3), 0 1px 3px 1px rgba(60, 64, 67, 0.15);\n",
              "    fill: var(--button-hover-fill-color);\n",
              "  }\n",
              "\n",
              "  .colab-df-quickchart-complete:disabled,\n",
              "  .colab-df-quickchart-complete:disabled:hover {\n",
              "    background-color: var(--disabled-bg-color);\n",
              "    fill: var(--disabled-fill-color);\n",
              "    box-shadow: none;\n",
              "  }\n",
              "\n",
              "  .colab-df-spinner {\n",
              "    border: 2px solid var(--fill-color);\n",
              "    border-color: transparent;\n",
              "    border-bottom-color: var(--fill-color);\n",
              "    animation:\n",
              "      spin 1s steps(1) infinite;\n",
              "  }\n",
              "\n",
              "  @keyframes spin {\n",
              "    0% {\n",
              "      border-color: transparent;\n",
              "      border-bottom-color: var(--fill-color);\n",
              "      border-left-color: var(--fill-color);\n",
              "    }\n",
              "    20% {\n",
              "      border-color: transparent;\n",
              "      border-left-color: var(--fill-color);\n",
              "      border-top-color: var(--fill-color);\n",
              "    }\n",
              "    30% {\n",
              "      border-color: transparent;\n",
              "      border-left-color: var(--fill-color);\n",
              "      border-top-color: var(--fill-color);\n",
              "      border-right-color: var(--fill-color);\n",
              "    }\n",
              "    40% {\n",
              "      border-color: transparent;\n",
              "      border-right-color: var(--fill-color);\n",
              "      border-top-color: var(--fill-color);\n",
              "    }\n",
              "    60% {\n",
              "      border-color: transparent;\n",
              "      border-right-color: var(--fill-color);\n",
              "    }\n",
              "    80% {\n",
              "      border-color: transparent;\n",
              "      border-right-color: var(--fill-color);\n",
              "      border-bottom-color: var(--fill-color);\n",
              "    }\n",
              "    90% {\n",
              "      border-color: transparent;\n",
              "      border-bottom-color: var(--fill-color);\n",
              "    }\n",
              "  }\n",
              "</style>\n",
              "\n",
              "  <script>\n",
              "    async function quickchart(key) {\n",
              "      const quickchartButtonEl =\n",
              "        document.querySelector('#' + key + ' button');\n",
              "      quickchartButtonEl.disabled = true;  // To prevent multiple clicks.\n",
              "      quickchartButtonEl.classList.add('colab-df-spinner');\n",
              "      try {\n",
              "        const charts = await google.colab.kernel.invokeFunction(\n",
              "            'suggestCharts', [key], {});\n",
              "      } catch (error) {\n",
              "        console.error('Error during call to suggestCharts:', error);\n",
              "      }\n",
              "      quickchartButtonEl.classList.remove('colab-df-spinner');\n",
              "      quickchartButtonEl.classList.add('colab-df-quickchart-complete');\n",
              "    }\n",
              "    (() => {\n",
              "      let quickchartButtonEl =\n",
              "        document.querySelector('#df-0ba67e13-e068-45bb-be6e-c99351d2321f button');\n",
              "      quickchartButtonEl.style.display =\n",
              "        google.colab.kernel.accessAllowed ? 'block' : 'none';\n",
              "    })();\n",
              "  </script>\n",
              "</div>\n",
              "    </div>\n",
              "  </div>\n"
            ],
            "application/vnd.google.colaboratory.intrinsic+json": {
              "type": "dataframe",
              "variable_name": "top_10_team_goals",
              "summary": "{\n  \"name\": \"top_10_team_goals\",\n  \"rows\": 10,\n  \"fields\": [\n    {\n      \"column\": \"team_name\",\n      \"properties\": {\n        \"dtype\": \"string\",\n        \"num_unique_values\": 10,\n        \"samples\": [\n          \"Uruguay\",\n          \"Germany\",\n          \"Spain\"\n        ],\n        \"semantic_type\": \"\",\n        \"description\": \"\"\n      }\n    },\n    {\n      \"column\": \"total_goals\",\n      \"properties\": {\n        \"dtype\": \"number\",\n        \"std\": 56,\n        \"min\": 86,\n        \"max\": 238,\n        \"num_unique_values\": 10,\n        \"samples\": [\n          89,\n          233,\n          108\n        ],\n        \"semantic_type\": \"\",\n        \"description\": \"\"\n      }\n    }\n  ]\n}"
            }
          },
          "metadata": {},
          "execution_count": 9
        }
      ]
    },
    {
      "cell_type": "markdown",
      "source": [
        "Давайте теперь визуалицируем наши данные. Для сравнения количества голов лучше всего подойдет столбчатая диаграмма. Будем использовать barplot из seaborn"
      ],
      "metadata": {
        "id": "pnY18kozRbXD"
      }
    },
    {
      "cell_type": "code",
      "source": [
        "plt.figure(figsize=(10, 6))\n",
        "sns.barplot(x='team_name', y='total_goals', data=top_10_team_goals)\n",
        "plt.title('Top 10 teams by goals')\n",
        "plt.xlabel('Team')\n",
        "plt.ylabel('Goals')\n",
        "plt.xticks(rotation=45)\n",
        "plt.show()"
      ],
      "metadata": {
        "colab": {
          "base_uri": "https://localhost:8080/",
          "height": 620
        },
        "id": "0orZmjxHRJjQ",
        "outputId": "eaa56db2-e859-458d-fc8b-9fe0622a3134"
      },
      "execution_count": 10,
      "outputs": [
        {
          "output_type": "display_data",
          "data": {
            "text/plain": [
              "<Figure size 1000x600 with 1 Axes>"
            ],
            "image/png": "[encoded data removed]"
          },
          "metadata": {}
        }
      ]
    },
    {
      "cell_type": "markdown",
      "source": [
        "По графику можем увидеть, что больше всех голов у сборной Бразилии - самой титулованной сборной в истории, которая славится своим атакующим и виртуозным футболом. На втором месте с небольшим отставанием сборная Германии, а на третьем действующий чемпион мира - сборная Аргентины"
      ],
      "metadata": {
        "id": "9S6amwoCR8el"
      }
    },
    {
      "cell_type": "markdown",
      "source": [
        "## Топ 10 игроков по голам"
      ],
      "metadata": {
        "id": "yGg254faSaQU"
      }
    },
    {
      "cell_type": "markdown",
      "source": [
        "Перед тем, как группировать данные, нам нужно немного изменить наши данные, так как у некоторых игроков в поле 'given_name' стоит значение not applicable. Создадим поле 'name_surname', где будет хранится имя и фамилия игрока. В случае отстуствия имени оставим только фамилию"
      ],
      "metadata": {
        "id": "zF8m1FRuSmNG"
      }
    },
    {
      "cell_type": "code",
      "source": [
        "df['name_surname'] = df.apply(lambda x: x['family_name'] if x['given_name'] == 'not applicable' else x['given_name'] + ' ' + x['family_name'], axis=1)"
      ],
      "metadata": {
        "id": "RQR_hG-NSjru"
      },
      "execution_count": 11,
      "outputs": []
    },
    {
      "cell_type": "markdown",
      "source": [
        "Повторим те же операции, как в топ 10 по голам, но теперь с группировкой по 'name_surname'"
      ],
      "metadata": {
        "id": "HQ3swFLlTMKm"
      }
    },
    {
      "cell_type": "code",
      "source": [
        "players_goals_data = df.groupby('name_surname', as_index=False).agg({'goal_id': 'count'}).rename(columns={'goal_id':'total_goals'})\n",
        "players_goals_data = players_goals_data.sort_values(by='total_goals', ascending=False)\n",
        "to_10_players_by_goals = players_goals_data.head(10)"
      ],
      "metadata": {
        "id": "bNm62IVhTJ-N"
      },
      "execution_count": 12,
      "outputs": []
    },
    {
      "cell_type": "code",
      "source": [
        "to_10_players_by_goals"
      ],
      "metadata": {
        "colab": {
          "base_uri": "https://localhost:8080/",
          "height": 363
        },
        "id": "BBq3m_xqTvB5",
        "outputId": "ac573fd9-bb14-4309-90e1-96e903fe2695"
      },
      "execution_count": 13,
      "outputs": [
        {
          "output_type": "execute_result",
          "data": {
            "text/plain": [
              "           name_surname  total_goals\n",
              "946      Miroslav Klose           16\n",
              "1179            Ronaldo           15\n",
              "454         Gerd Müller           14\n",
              "812        Lionel Messi           13\n",
              "737       Just Fontaine           13\n",
              "792       Kylian Mbappé           12\n",
              "1047               Pelé           12\n",
              "745    Jürgen Klinsmann           11\n",
              "1278      Sándor Kocsis           11\n",
              "432   Gabriel Batistuta           10"
            ],
            "text/html": [
              "\n",
              "  <div id=\"df-17c17d4c-29c1-4e78-90f7-e925e1229444\" class=\"colab-df-container\">\n",
              "    <div>\n",
              "<style scoped>\n",
              "    .dataframe tbody tr th:only-of-type {\n",
              "        vertical-align: middle;\n",
              "    }\n",
              "\n",
              "    .dataframe tbody tr th {\n",
              "        vertical-align: top;\n",
              "    }\n",
              "\n",
              "    .dataframe thead th {\n",
              "        text-align: right;\n",
              "    }\n",
              "</style>\n",
              "<table border=\"1\" class=\"dataframe\">\n",
              "  <thead>\n",
              "    <tr style=\"text-align: right;\">\n",
              "      <th></th>\n",
              "      <th>name_surname</th>\n",
              "      <th>total_goals</th>\n",
              "    </tr>\n",
              "  </thead>\n",
              "  <tbody>\n",
              "    <tr>\n",
              "      <th>946</th>\n",
              "      <td>Miroslav Klose</td>\n",
              "      <td>16</td>\n",
              "    </tr>\n",
              "    <tr>\n",
              "      <th>1179</th>\n",
              "      <td>Ronaldo</td>\n",
              "      <td>15</td>\n",
              "    </tr>\n",
              "    <tr>\n",
              "      <th>454</th>\n",
              "      <td>Gerd Müller</td>\n",
              "      <td>14</td>\n",
              "    </tr>\n",
              "    <tr>\n",
              "      <th>812</th>\n",
              "      <td>Lionel Messi</td>\n",
              "      <td>13</td>\n",
              "    </tr>\n",
              "    <tr>\n",
              "      <th>737</th>\n",
              "      <td>Just Fontaine</td>\n",
              "      <td>13</td>\n",
              "    </tr>\n",
              "    <tr>\n",
              "      <th>792</th>\n",
              "      <td>Kylian Mbappé</td>\n",
              "      <td>12</td>\n",
              "    </tr>\n",
              "    <tr>\n",
              "      <th>1047</th>\n",
              "      <td>Pelé</td>\n",
              "      <td>12</td>\n",
              "    </tr>\n",
              "    <tr>\n",
              "      <th>745</th>\n",
              "      <td>Jürgen Klinsmann</td>\n",
              "      <td>11</td>\n",
              "    </tr>\n",
              "    <tr>\n",
              "      <th>1278</th>\n",
              "      <td>Sándor Kocsis</td>\n",
              "      <td>11</td>\n",
              "    </tr>\n",
              "    <tr>\n",
              "      <th>432</th>\n",
              "      <td>Gabriel Batistuta</td>\n",
              "      <td>10</td>\n",
              "    </tr>\n",
              "  </tbody>\n",
              "</table>\n",
              "</div>\n",
              "    <div class=\"colab-df-buttons\">\n",
              "\n",
              "  <div class=\"colab-df-container\">\n",
              "    <button class=\"colab-df-convert\" onclick=\"convertToInteractive('df-17c17d4c-29c1-4e78-90f7-e925e1229444')\"\n",
              "            title=\"Convert this dataframe to an interactive table.\"\n",
              "            style=\"display:none;\">\n",
              "\n",
              "  <svg xmlns=\"http://www.w3.org/2000/svg\" height=\"24px\" viewBox=\"0 -960 960 960\">\n",
              "    <path d=\"M120-120v-720h720v720H120Zm60-500h600v-160H180v160Zm220 220h160v-160H400v160Zm0 220h160v-160H400v160ZM180-400h160v-160H180v160Zm440 0h160v-160H620v160ZM180-180h160v-160H180v160Zm440 0h160v-160H620v160Z\"/>\n",
              "  </svg>\n",
              "    </button>\n",
              "\n",
              "  <style>\n",
              "    .colab-df-container {\n",
              "      display:flex;\n",
              "      gap: 12px;\n",
              "    }\n",
              "\n",
              "    .colab-df-convert {\n",
              "      background-color: #E8F0FE;\n",
              "      border: none;\n",
              "      border-radius: 50%;\n",
              "      cursor: pointer;\n",
              "      display: none;\n",
              "      fill: #1967D2;\n",
              "      height: 32px;\n",
              "      padding: 0 0 0 0;\n",
              "      width: 32px;\n",
              "    }\n",
              "\n",
              "    .colab-df-convert:hover {\n",
              "      background-color: #E2EBFA;\n",
              "      box-shadow: 0px 1px 2px rgba(60, 64, 67, 0.3), 0px 1px 3px 1px rgba(60, 64, 67, 0.15);\n",
              "      fill: #174EA6;\n",
              "    }\n",
              "\n",
              "    .colab-df-buttons div {\n",
              "      margin-bottom: 4px;\n",
              "    }\n",
              "\n",
              "    [theme=dark] .colab-df-convert {\n",
              "      background-color: #3B4455;\n",
              "      fill: #D2E3FC;\n",
              "    }\n",
              "\n",
              "    [theme=dark] .colab-df-convert:hover {\n",
              "      background-color: #434B5C;\n",
              "      box-shadow: 0px 1px 3px 1px rgba(0, 0, 0, 0.15);\n",
              "      filter: drop-shadow(0px 1px 2px rgba(0, 0, 0, 0.3));\n",
              "      fill: #FFFFFF;\n",
              "    }\n",
              "  </style>\n",
              "\n",
              "    <script>\n",
              "      const buttonEl =\n",
              "        document.querySelector('#df-17c17d4c-29c1-4e78-90f7-e925e1229444 button.colab-df-convert');\n",
              "      buttonEl.style.display =\n",
              "        google.colab.kernel.accessAllowed ? 'block' : 'none';\n",
              "\n",
              "      async function convertToInteractive(key) {\n",
              "        const element = document.querySelector('#df-17c17d4c-29c1-4e78-90f7-e925e1229444');\n",
              "        const dataTable =\n",
              "          await google.colab.kernel.invokeFunction('convertToInteractive',\n",
              "                                                    [key], {});\n",
              "        if (!dataTable) return;\n",
              "\n",
              "        const docLinkHtml = 'Like what you see? Visit the ' +\n",
              "          '<a target=\"_blank\" href=https://colab.research.google.com/notebooks/data_table.ipynb>data table notebook</a>'\n",
              "          + ' to learn more about interactive tables.';\n",
              "        element.innerHTML = '';\n",
              "        dataTable['output_type'] = 'display_data';\n",
              "        await google.colab.output.renderOutput(dataTable, element);\n",
              "        const docLink = document.createElement('div');\n",
              "        docLink.innerHTML = docLinkHtml;\n",
              "        element.appendChild(docLink);\n",
              "      }\n",
              "    </script>\n",
              "  </div>\n",
              "\n",
              "\n",
              "<div id=\"df-781ad590-7dc0-471d-9599-68764af11547\">\n",
              "  <button class=\"colab-df-quickchart\" onclick=\"quickchart('df-781ad590-7dc0-471d-9599-68764af11547')\"\n",
              "            title=\"Suggest charts\"\n",
              "            style=\"display:none;\">\n",
              "\n",
              "<svg xmlns=\"http://www.w3.org/2000/svg\" height=\"24px\"viewBox=\"0 0 24 24\"\n",
              "     width=\"24px\">\n",
              "    <g>\n",
              "        <path d=\"M19 3H5c-1.1 0-2 .9-2 2v14c0 1.1.9 2 2 2h14c1.1 0 2-.9 2-2V5c0-1.1-.9-2-2-2zM9 17H7v-7h2v7zm4 0h-2V7h2v10zm4 0h-2v-4h2v4z\"/>\n",
              "    </g>\n",
              "</svg>\n",
              "  </button>\n",
              "\n",
              "<style>\n",
              "  .colab-df-quickchart {\n",
              "      --bg-color: #E8F0FE;\n",
              "      --fill-color: #1967D2;\n",
              "      --hover-bg-color: #E2EBFA;\n",
              "      --hover-fill-color: #174EA6;\n",
              "      --disabled-fill-color: #AAA;\n",
              "      --disabled-bg-color: #DDD;\n",
              "  }\n",
              "\n",
              "  [theme=dark] .colab-df-quickchart {\n",
              "      --bg-color: #3B4455;\n",
              "      --fill-color: #D2E3FC;\n",
              "      --hover-bg-color: #434B5C;\n",
              "      --hover-fill-color: #FFFFFF;\n",
              "      --disabled-bg-color: #3B4455;\n",
              "      --disabled-fill-color: #666;\n",
              "  }\n",
              "\n",
              "  .colab-df-quickchart {\n",
              "    background-color: var(--bg-color);\n",
              "    border: none;\n",
              "    border-radius: 50%;\n",
              "    cursor: pointer;\n",
              "    display: none;\n",
              "    fill: var(--fill-color);\n",
              "    height: 32px;\n",
              "    padding: 0;\n",
              "    width: 32px;\n",
              "  }\n",
              "\n",
              "  .colab-df-quickchart:hover {\n",
              "    background-color: var(--hover-bg-color);\n",
              "    box-shadow: 0 1px 2px rgba(60, 64, 67, 0.3), 0 1px 3px 1px rgba(60, 64, 67, 0.15);\n",
              "    fill: var(--button-hover-fill-color);\n",
              "  }\n",
              "\n",
              "  .colab-df-quickchart-complete:disabled,\n",
              "  .colab-df-quickchart-complete:disabled:hover {\n",
              "    background-color: var(--disabled-bg-color);\n",
              "    fill: var(--disabled-fill-color);\n",
              "    box-shadow: none;\n",
              "  }\n",
              "\n",
              "  .colab-df-spinner {\n",
              "    border: 2px solid var(--fill-color);\n",
              "    border-color: transparent;\n",
              "    border-bottom-color: var(--fill-color);\n",
              "    animation:\n",
              "      spin 1s steps(1) infinite;\n",
              "  }\n",
              "\n",
              "  @keyframes spin {\n",
              "    0% {\n",
              "      border-color: transparent;\n",
              "      border-bottom-color: var(--fill-color);\n",
              "      border-left-color: var(--fill-color);\n",
              "    }\n",
              "    20% {\n",
              "      border-color: transparent;\n",
              "      border-left-color: var(--fill-color);\n",
              "      border-top-color: var(--fill-color);\n",
              "    }\n",
              "    30% {\n",
              "      border-color: transparent;\n",
              "      border-left-color: var(--fill-color);\n",
              "      border-top-color: var(--fill-color);\n",
              "      border-right-color: var(--fill-color);\n",
              "    }\n",
              "    40% {\n",
              "      border-color: transparent;\n",
              "      border-right-color: var(--fill-color);\n",
              "      border-top-color: var(--fill-color);\n",
              "    }\n",
              "    60% {\n",
              "      border-color: transparent;\n",
              "      border-right-color: var(--fill-color);\n",
              "    }\n",
              "    80% {\n",
              "      border-color: transparent;\n",
              "      border-right-color: var(--fill-color);\n",
              "      border-bottom-color: var(--fill-color);\n",
              "    }\n",
              "    90% {\n",
              "      border-color: transparent;\n",
              "      border-bottom-color: var(--fill-color);\n",
              "    }\n",
              "  }\n",
              "</style>\n",
              "\n",
              "  <script>\n",
              "    async function quickchart(key) {\n",
              "      const quickchartButtonEl =\n",
              "        document.querySelector('#' + key + ' button');\n",
              "      quickchartButtonEl.disabled = true;  // To prevent multiple clicks.\n",
              "      quickchartButtonEl.classList.add('colab-df-spinner');\n",
              "      try {\n",
              "        const charts = await google.colab.kernel.invokeFunction(\n",
              "            'suggestCharts', [key], {});\n",
              "      } catch (error) {\n",
              "        console.error('Error during call to suggestCharts:', error);\n",
              "      }\n",
              "      quickchartButtonEl.classList.remove('colab-df-spinner');\n",
              "      quickchartButtonEl.classList.add('colab-df-quickchart-complete');\n",
              "    }\n",
              "    (() => {\n",
              "      let quickchartButtonEl =\n",
              "        document.querySelector('#df-781ad590-7dc0-471d-9599-68764af11547 button');\n",
              "      quickchartButtonEl.style.display =\n",
              "        google.colab.kernel.accessAllowed ? 'block' : 'none';\n",
              "    })();\n",
              "  </script>\n",
              "</div>\n",
              "    </div>\n",
              "  </div>\n"
            ],
            "application/vnd.google.colaboratory.intrinsic+json": {
              "type": "dataframe",
              "variable_name": "to_10_players_by_goals",
              "summary": "{\n  \"name\": \"to_10_players_by_goals\",\n  \"rows\": 10,\n  \"fields\": [\n    {\n      \"column\": \"name_surname\",\n      \"properties\": {\n        \"dtype\": \"string\",\n        \"num_unique_values\": 10,\n        \"samples\": [\n          \"S\\u00e1ndor Kocsis\",\n          \"Ronaldo\",\n          \"Kylian Mbapp\\u00e9\"\n        ],\n        \"semantic_type\": \"\",\n        \"description\": \"\"\n      }\n    },\n    {\n      \"column\": \"total_goals\",\n      \"properties\": {\n        \"dtype\": \"number\",\n        \"std\": 1,\n        \"min\": 10,\n        \"max\": 16,\n        \"num_unique_values\": 7,\n        \"samples\": [\n          16,\n          15,\n          11\n        ],\n        \"semantic_type\": \"\",\n        \"description\": \"\"\n      }\n    }\n  ]\n}"
            }
          },
          "metadata": {},
          "execution_count": 13
        }
      ]
    },
    {
      "cell_type": "markdown",
      "source": [
        "Визуализируем результаты также с помощью barplot"
      ],
      "metadata": {
        "id": "A0wsNYBCTxzm"
      }
    },
    {
      "cell_type": "code",
      "source": [
        "plt.figure(figsize=(10, 6))\n",
        "sns.barplot(x='name_surname', y='total_goals', data=to_10_players_by_goals)\n",
        "plt.title('Top 10 players by goals')\n",
        "plt.xlabel('Player')\n",
        "plt.ylabel('Goals')\n",
        "plt.xticks(rotation=45)\n",
        "plt.show()"
      ],
      "metadata": {
        "colab": {
          "base_uri": "https://localhost:8080/",
          "height": 646
        },
        "id": "DO3WxtKDTwId",
        "outputId": "94bb539a-c093-4916-b39d-d9f70b573006"
      },
      "execution_count": 14,
      "outputs": [
        {
          "output_type": "display_data",
          "data": {
            "text/plain": [
              "<Figure size 1000x600 with 1 Axes>"
            ],
            "image/png": "[encoded data removed]"
          },
          "metadata": {}
        }
      ]
    },
    {
      "cell_type": "markdown",
      "source": [
        "Первое место занимает Мирослав Клозе, который побил рекорд на чепионате мира в 2014 году, получив титул в том году и забив в общей слодности на всех турнирах 16 голов. Далее идет обладатель двух золотых мячей \"зубастик\" Роналдо из сборной Бразилии, который взял титул 2 раза в 1994 и 2002 и забил в общей сложности 15 голов. На третьем месте Герд Мюллер, игркок сборной Германии, который считается один из лучших игроков 20 века, забивший 14 голов"
      ],
      "metadata": {
        "id": "GZep-oVAVGuj"
      }
    },
    {
      "cell_type": "markdown",
      "source": [
        "## Лучшие бомбардиры каждого розыгрыша"
      ],
      "metadata": {
        "id": "iyYwkxmdWmH0"
      }
    },
    {
      "cell_type": "markdown",
      "source": [
        "Чтобы найти лучего бомбардира кажого розыгрыша сначала нужно сгруппировать данные по названию турнира и по имени_фамилии игрока."
      ],
      "metadata": {
        "id": "p0K1tobJW7BX"
      }
    },
    {
      "cell_type": "code",
      "source": [
        "players_goals_by_tournament = df.groupby(['tournament_name', 'name_surname'], as_index=False).agg({'goal_id':'count'}).rename(columns={'goal_id': 'total_goals'})"
      ],
      "metadata": {
        "id": "_58QeMX7T5iE"
      },
      "execution_count": 15,
      "outputs": []
    },
    {
      "cell_type": "markdown",
      "source": [
        "Далее сделаем группировку по туринру и выберем игрока с самым большим количеством голов"
      ],
      "metadata": {
        "id": "RKsKYoQrXHXL"
      }
    },
    {
      "cell_type": "code",
      "source": [
        "best_scorers = players_goals_by_tournament.groupby('tournament_name').apply(lambda x: x.loc[x['total_goals'].idxmax()])\n",
        "best_scorers.reset_index(drop=True, inplace=True)"
      ],
      "metadata": {
        "id": "T_OFbIdnXGp5"
      },
      "execution_count": 16,
      "outputs": []
    },
    {
      "cell_type": "markdown",
      "source": [
        "Визуализируем получившийся результат. Название туринра слишком громоздкое, поэтому возьмем из него только год. Создадим новую колонку, где запишем имя_фамилия игрока и год турнира"
      ],
      "metadata": {
        "id": "wgIgkkEQXa5Y"
      }
    },
    {
      "cell_type": "code",
      "source": [
        "best_scorers['player_plus_tournament'] = best_scorers['name_surname'] + ' ' + best_scorers['tournament_name'].str.extract('(\\d{4})')[0]"
      ],
      "metadata": {
        "id": "HfHBLXGcXWj5"
      },
      "execution_count": 17,
      "outputs": []
    },
    {
      "cell_type": "markdown",
      "source": [
        "Теперь выведем стобчтаю диаграмму"
      ],
      "metadata": {
        "id": "RieAAqS7XubK"
      }
    },
    {
      "cell_type": "code",
      "source": [
        "plt.figure(figsize=(15, 6))\n",
        "sns.barplot(x='player_plus_tournament', y='total_goals', data=best_scorers)\n",
        "plt.title('Best scorers in every World Cup')\n",
        "plt.xlabel('Tournament and Player')\n",
        "plt.ylabel('Goals')\n",
        "plt.xticks(rotation=45)\n",
        "plt.legend(title='Имя игрока')\n",
        "plt.tight_layout()\n",
        "plt.show()"
      ],
      "metadata": {
        "colab": {
          "base_uri": "https://localhost:8080/",
          "height": 763
        },
        "id": "TysXDXKBXttS",
        "outputId": "3363793a-a522-4861-9a56-70eefeb5bfa2"
      },
      "execution_count": 18,
      "outputs": [
        {
          "output_type": "stream",
          "name": "stderr",
          "text": [
            "WARNING:matplotlib.legend:No artists with labels found to put in legend.  Note that artists whose label start with an underscore are ignored when legend() is called with no argument.\n",
            "<ipython-input-18-b9198e4def84>:8: UserWarning: Glyph 158 (\\x9e) missing from current font.\n",
            "  plt.tight_layout()\n",
            "<ipython-input-18-b9198e4def84>:8: UserWarning: Glyph 138 (\\x8a) missing from current font.\n",
            "  plt.tight_layout()\n",
            "/usr/local/lib/python3.10/dist-packages/IPython/core/pylabtools.py:151: UserWarning: Glyph 158 (\\x9e) missing from current font.\n",
            "  fig.canvas.print_figure(bytes_io, **kw)\n",
            "/usr/local/lib/python3.10/dist-packages/IPython/core/pylabtools.py:151: UserWarning: Glyph 138 (\\x8a) missing from current font.\n",
            "  fig.canvas.print_figure(bytes_io, **kw)\n"
          ]
        },
        {
          "output_type": "display_data",
          "data": {
            "text/plain": [
              "<Figure size 1500x600 with 1 Axes>"
            ],
            "image/png": "[encoded data removed]"
          },
          "metadata": {}
        }
      ]
    },
    {
      "cell_type": "markdown",
      "source": [
        "На последних трех чемпионатах лучшими бомбардирами были Киллиан Мбаппе (2022), Гарри Кейн (2018) и Хамес Родригес (2014). Сильно выбивается из общего списка чемпионат мира 1958 года, на котором французский футболист Джаст Фонтейн забил целых 13 голов!"
      ],
      "metadata": {
        "id": "PNrBstmMX0YR"
      }
    },
    {
      "cell_type": "markdown",
      "source": [
        "## Распределение голов по минутам"
      ],
      "metadata": {
        "id": "sPxynAREaYdF"
      }
    },
    {
      "cell_type": "markdown",
      "source": [
        "Как распределяются голы с течением времени матча в основное время? Давайте построим это распределение. Для начала отберем записи голов, которые были забиты до 90 минуты и вне добавленного времени."
      ],
      "metadata": {
        "id": "NdvBxmf4ablb"
      }
    },
    {
      "cell_type": "code",
      "source": [
        "goals_under_90_mins = df[(df['minute_regulation'] <= 90) & (df['minute_stoppage'] == 0)]"
      ],
      "metadata": {
        "id": "psumudVaabM1"
      },
      "execution_count": 19,
      "outputs": []
    },
    {
      "cell_type": "markdown",
      "source": [
        "Сгруппируем минуты и посчитаем сколько голов было забито на каждой"
      ],
      "metadata": {
        "id": "yuuZwOVPcPOx"
      }
    },
    {
      "cell_type": "code",
      "source": [
        "counter_minutes = goals_under_90_mins.groupby('minute_regulation', as_index=False).agg({'goal_id':'count'}).rename(columns={'minute_regulation': 'minute', 'goal_id': 'total_goals'})"
      ],
      "metadata": {
        "id": "WjBpAvFkXzID"
      },
      "execution_count": 20,
      "outputs": []
    },
    {
      "cell_type": "markdown",
      "source": [
        "Теперь давайте сгруппируем минуты по 5 минут на интервал и построим barplot"
      ],
      "metadata": {
        "id": "GGKFErIdcWRM"
      }
    },
    {
      "cell_type": "code",
      "source": [
        "counter_minutes['minute_interval'] = pd.cut(counter_minutes['minute'], bins=range(1, 92, 5), right=False, labels=[f'{i}-{i+4}' for i in range(1, 90, 5)])\n",
        "interval_minutes = counter_minutes.groupby('minute_interval')['total_goals'].sum().reset_index()"
      ],
      "metadata": {
        "id": "pma7-dcYpjUa"
      },
      "execution_count": 21,
      "outputs": []
    },
    {
      "cell_type": "code",
      "source": [
        "plt.figure(figsize=(10, 6))\n",
        "sns.barplot(x='minute_interval', y='total_goals', data=interval_minutes)\n",
        "plt.title('Distribution of goals by minutes')\n",
        "plt.xlabel('Minute')\n",
        "plt.ylabel('Total_goals')\n",
        "plt.tight_layout()\n",
        "plt.show()"
      ],
      "metadata": {
        "colab": {
          "base_uri": "https://localhost:8080/",
          "height": 607
        },
        "id": "W3om_y8acUPy",
        "outputId": "1eb9d4b5-4bbd-4f3e-cd52-2864823c251f"
      },
      "execution_count": 22,
      "outputs": [
        {
          "output_type": "display_data",
          "data": {
            "text/plain": [
              "<Figure size 1000x600 with 1 Axes>"
            ],
            "image/png": "[encoded data removed]"
          },
          "metadata": {}
        }
      ]
    },
    {
      "cell_type": "markdown",
      "source": [
        "По этому распредлению мы можем увидеть, что чем ближе минута к концу игры, тем больше забитых мячей. Своего пика распредление достигает примерно на 81-85 минутах. Этот вывод выглядит логичным, потому что к концу игры игроки больше мотивированны забить гол, чтобы спасти свою команду отпоражения"
      ],
      "metadata": {
        "id": "h-v9A2rnpvhx"
      }
    },
    {
      "cell_type": "markdown",
      "source": [
        "## Сколько голов было забито с игры и с пенальти?"
      ],
      "metadata": {
        "id": "aNPtXV_grclJ"
      }
    },
    {
      "cell_type": "markdown",
      "source": [
        "Чтобы ответить на этот вопрос построим круговую диаграмму. Для этого сгруппируем датасет по столбцу 'peanlty' и создадим столбец 'goal_type'"
      ],
      "metadata": {
        "id": "qIHoL3-krfl0"
      }
    },
    {
      "cell_type": "code",
      "source": [
        "penalty_or_from_game =  df.groupby('penalty', as_index=False).agg({'goal_id': 'count'}).rename(columns={'goal_id': 'total_goals'})"
      ],
      "metadata": {
        "id": "gSbTZH-Acvxk"
      },
      "execution_count": 23,
      "outputs": []
    },
    {
      "cell_type": "code",
      "source": [
        "penalty_or_from_game['goal_type'] = penalty_or_from_game.apply(lambda x: 'From penalty' if x['penalty'] == 1 else 'From game', axis=1)"
      ],
      "metadata": {
        "id": "TmfFcWbctIUq"
      },
      "execution_count": 24,
      "outputs": []
    },
    {
      "cell_type": "code",
      "source": [
        "fig, ax = plt.subplots()\n",
        "ax.pie(penalty_or_from_game['total_goals'], labels=penalty_or_from_game['goal_type'], autopct='%1.1f%%', startangle=90)\n",
        "ax.axis('equal')"
      ],
      "metadata": {
        "colab": {
          "base_uri": "https://localhost:8080/",
          "height": 426
        },
        "id": "DOx2M6yntLgy",
        "outputId": "91b722f7-418d-45e3-8517-632987629179"
      },
      "execution_count": 25,
      "outputs": [
        {
          "output_type": "execute_result",
          "data": {
            "text/plain": [
              "(-1.099999789994301, 1.099999989742702, -1.0999998128521162, 1.099999991088196)"
            ]
          },
          "metadata": {},
          "execution_count": 25
        },
        {
          "output_type": "display_data",
          "data": {
            "text/plain": [
              "<Figure size 640x480 with 1 Axes>"
            ],
            "image/png": "[encoded data removed]"
          },
          "metadata": {}
        }
      ]
    },
    {
      "cell_type": "markdown",
      "source": [
        "## Топ 5 самых зрелищных игр"
      ],
      "metadata": {
        "id": "TWwoqeSuwxPj"
      }
    },
    {
      "cell_type": "markdown",
      "source": [
        "Чемпионат мира - очень важное событие в футболе. Игроки защищают честь своей страны, поэтому команды в среднем действуют более аккуратно, чем в клубном футболе. Из-за этого количество мячей забитых в играх меньше. Однако есть матчи, которые обладают аномальной результативностью. Например, многие помнят разгром Бразилии, который устроила сборная Германии на ЧМ 2014. Счет в матче тогда был 7:1. А самая ли это результативная игра в истории чемпионатов мира? Давайте найдем топ 5 самых результативных игр в истории розыгрыша"
      ],
      "metadata": {
        "id": "gh6bbZZpxPUg"
      }
    },
    {
      "cell_type": "markdown",
      "source": [
        "Для начала сгруппируем датасет по 'mathc_id'. Аггрегируем количество записей в столбец 'total_goals' и посчитаем сколько забила домашняя и гостевая команды"
      ],
      "metadata": {
        "id": "ojyafw9CyIZ8"
      }
    },
    {
      "cell_type": "code",
      "source": [
        "goals_in_matches = df.groupby('match_id', as_index=False).agg({'goal_id': 'count', 'home_team': 'sum', 'away_team': 'sum'}).rename(columns={'goal_id': 'total_goals'})"
      ],
      "metadata": {
        "id": "YbP-TotmtPvY"
      },
      "execution_count": 26,
      "outputs": []
    },
    {
      "cell_type": "markdown",
      "source": [
        "Нам также понадобятся названия игр. Созадим дата фрейм с уникальными id матечей, рядом с которыми поставим названия этих матчей"
      ],
      "metadata": {
        "id": "Lh09oxVTyuZR"
      }
    },
    {
      "cell_type": "code",
      "source": [
        "matches_teams_data = df[['match_id', 'match_name']].drop_duplicates(subset=['match_id'])"
      ],
      "metadata": {
        "id": "717IdXUVytX2"
      },
      "execution_count": 27,
      "outputs": []
    },
    {
      "cell_type": "markdown",
      "source": [
        "Теперь смерджим таблицы с названием и результатами"
      ],
      "metadata": {
        "id": "ZTgwOIaCzEI2"
      }
    },
    {
      "cell_type": "code",
      "source": [
        "goals_in_matches = pd.merge(goals_in_matches, matches_teams_data, on='match_id')"
      ],
      "metadata": {
        "id": "X9XGB30fy9Y4"
      },
      "execution_count": 28,
      "outputs": []
    },
    {
      "cell_type": "markdown",
      "source": [
        "Отсортируем получившийся резуьтат по количеству мячей"
      ],
      "metadata": {
        "id": "08ia-OEAzLZb"
      }
    },
    {
      "cell_type": "code",
      "source": [
        "goals_in_matches = goals_in_matches.sort_values(by='total_goals', ascending=False)"
      ],
      "metadata": {
        "id": "OJJDy-0AzNCe"
      },
      "execution_count": 29,
      "outputs": []
    },
    {
      "cell_type": "markdown",
      "source": [
        "Для визуализации полученного результата создадим колонку, где укажем название матча и счет"
      ],
      "metadata": {
        "id": "ulK6excEzYOr"
      }
    },
    {
      "cell_type": "code",
      "source": [
        "goals_in_matches['match_result'] = goals_in_matches['match_name'] + ' ' + goals_in_matches['home_team'].astype(str) + ':' + goals_in_matches['away_team'].astype(str)"
      ],
      "metadata": {
        "id": "RvwHnxTQzDCo"
      },
      "execution_count": 30,
      "outputs": []
    },
    {
      "cell_type": "markdown",
      "source": [
        "Отберем топ 5 и построим столбчатую диаграмму"
      ],
      "metadata": {
        "id": "MYrkESqLzgtj"
      }
    },
    {
      "cell_type": "code",
      "source": [
        "top_5_most_resultant_games = goals_in_matches.head(5)"
      ],
      "metadata": {
        "id": "QcrsYAaAzeR1"
      },
      "execution_count": 31,
      "outputs": []
    },
    {
      "cell_type": "code",
      "source": [
        "plt.figure(figsize=(12, 6))\n",
        "sns.barplot(x='match_result', y='total_goals', data=top_5_most_resultant_games)\n",
        "plt.title('Top 5 most resultant games')\n",
        "plt.xlabel('Game result')\n",
        "plt.ylabel('Total goals')\n",
        "plt.tight_layout()\n",
        "plt.show()"
      ],
      "metadata": {
        "colab": {
          "base_uri": "https://localhost:8080/",
          "height": 607
        },
        "id": "QHAa2PyGzl_p",
        "outputId": "1ce7aef6-b9fd-4f8a-9bdf-055898ece36e"
      },
      "execution_count": 32,
      "outputs": [
        {
          "output_type": "display_data",
          "data": {
            "text/plain": [
              "<Figure size 1200x600 with 1 Axes>"
            ],
            "image/png": "[encoded data removed]"
          },
          "metadata": {}
        }
      ]
    },
    {
      "cell_type": "markdown",
      "source": [
        "Матч Бразилия - Германия даже не вошел в топ 5! В самой результативной игре Австрия - Швейцария команды забили в общей сложности 12 мячей."
      ],
      "metadata": {
        "id": "YP7CzSCVzo9f"
      }
    },
    {
      "cell_type": "markdown",
      "source": [
        "А Бразилия - Германия находится лишь на 17 месте"
      ],
      "metadata": {
        "id": "mSEMIFAnz_8D"
      }
    },
    {
      "cell_type": "code",
      "source": [
        "goals_in_matches.head(20)"
      ],
      "metadata": {
        "colab": {
          "base_uri": "https://localhost:8080/",
          "height": 677
        },
        "id": "X-fH6x9dz8ED",
        "outputId": "45692946-d0bd-44c0-d066-4f34a6351dbc"
      },
      "execution_count": 33,
      "outputs": [
        {
          "output_type": "execute_result",
          "data": {
            "text/plain": [
              "      match_id  total_goals  home_team  away_team               match_name  \\\n",
              "93   M-1954-19           12          7          5    Austria v Switzerland   \n",
              "87   M-1954-13           11          8          3   Hungary v West Germany   \n",
              "40   M-1938-06           11          6          5          Brazil v Poland   \n",
              "287  M-1982-05           11         10          1    Hungary v El Salvador   \n",
              "104  M-1958-04           10          7          3        France v Paraguay   \n",
              "132  M-1958-34            9          6          3    France v West Germany   \n",
              "228  M-1974-12            9          9          0       Yugoslavia v Zaire   \n",
              "10   M-1930-11            9          6          3       Argentina v Mexico   \n",
              "80   M-1954-06            9          9          0    Hungary v South Korea   \n",
              "91   M-1954-17            9          7          2    West Germany v Turkey   \n",
              "69   M-1950-17            8          7          1          Brazil v Sweden   \n",
              "144  M-1962-13            8          4          4  Soviet Union v Colombia   \n",
              "537  M-2002-04            8          8          0   Germany v Saudi Arabia   \n",
              "67   M-1950-15            8          8          0        Uruguay v Bolivia   \n",
              "47   M-1938-13            8          8          0            Sweden v Cuba   \n",
              "830  M-2022-02            8          6          2           England v Iran   \n",
              "763  M-2014-61            8          1          7         Brazil v Germany   \n",
              "82   M-1954-08            8          4          4        England v Belgium   \n",
              "22   M-1934-05            8          7          1    Italy v United States   \n",
              "184  M-1966-26            8          5          3   Portugal v North Korea   \n",
              "\n",
              "                    match_result  \n",
              "93     Austria v Switzerland 7:5  \n",
              "87    Hungary v West Germany 8:3  \n",
              "40           Brazil v Poland 6:5  \n",
              "287   Hungary v El Salvador 10:1  \n",
              "104        France v Paraguay 7:3  \n",
              "132    France v West Germany 6:3  \n",
              "228       Yugoslavia v Zaire 9:0  \n",
              "10        Argentina v Mexico 6:3  \n",
              "80     Hungary v South Korea 9:0  \n",
              "91     West Germany v Turkey 7:2  \n",
              "69           Brazil v Sweden 7:1  \n",
              "144  Soviet Union v Colombia 4:4  \n",
              "537   Germany v Saudi Arabia 8:0  \n",
              "67         Uruguay v Bolivia 8:0  \n",
              "47             Sweden v Cuba 8:0  \n",
              "830           England v Iran 6:2  \n",
              "763         Brazil v Germany 1:7  \n",
              "82         England v Belgium 4:4  \n",
              "22     Italy v United States 7:1  \n",
              "184   Portugal v North Korea 5:3  "
            ],
            "text/html": [
              "\n",
              "  <div id=\"df-efce2798-1249-4404-8599-b97358697aa8\" class=\"colab-df-container\">\n",
              "    <div>\n",
              "<style scoped>\n",
              "    .dataframe tbody tr th:only-of-type {\n",
              "        vertical-align: middle;\n",
              "    }\n",
              "\n",
              "    .dataframe tbody tr th {\n",
              "        vertical-align: top;\n",
              "    }\n",
              "\n",
              "    .dataframe thead th {\n",
              "        text-align: right;\n",
              "    }\n",
              "</style>\n",
              "<table border=\"1\" class=\"dataframe\">\n",
              "  <thead>\n",
              "    <tr style=\"text-align: right;\">\n",
              "      <th></th>\n",
              "      <th>match_id</th>\n",
              "      <th>total_goals</th>\n",
              "      <th>home_team</th>\n",
              "      <th>away_team</th>\n",
              "      <th>match_name</th>\n",
              "      <th>match_result</th>\n",
              "    </tr>\n",
              "  </thead>\n",
              "  <tbody>\n",
              "    <tr>\n",
              "      <th>93</th>\n",
              "      <td>M-1954-19</td>\n",
              "      <td>12</td>\n",
              "      <td>7</td>\n",
              "      <td>5</td>\n",
              "      <td>Austria v Switzerland</td>\n",
              "      <td>Austria v Switzerland 7:5</td>\n",
              "    </tr>\n",
              "    <tr>\n",
              "      <th>87</th>\n",
              "      <td>M-1954-13</td>\n",
              "      <td>11</td>\n",
              "      <td>8</td>\n",
              "      <td>3</td>\n",
              "      <td>Hungary v West Germany</td>\n",
              "      <td>Hungary v West Germany 8:3</td>\n",
              "    </tr>\n",
              "    <tr>\n",
              "      <th>40</th>\n",
              "      <td>M-1938-06</td>\n",
              "      <td>11</td>\n",
              "      <td>6</td>\n",
              "      <td>5</td>\n",
              "      <td>Brazil v Poland</td>\n",
              "      <td>Brazil v Poland 6:5</td>\n",
              "    </tr>\n",
              "    <tr>\n",
              "      <th>287</th>\n",
              "      <td>M-1982-05</td>\n",
              "      <td>11</td>\n",
              "      <td>10</td>\n",
              "      <td>1</td>\n",
              "      <td>Hungary v El Salvador</td>\n",
              "      <td>Hungary v El Salvador 10:1</td>\n",
              "    </tr>\n",
              "    <tr>\n",
              "      <th>104</th>\n",
              "      <td>M-1958-04</td>\n",
              "      <td>10</td>\n",
              "      <td>7</td>\n",
              "      <td>3</td>\n",
              "      <td>France v Paraguay</td>\n",
              "      <td>France v Paraguay 7:3</td>\n",
              "    </tr>\n",
              "    <tr>\n",
              "      <th>132</th>\n",
              "      <td>M-1958-34</td>\n",
              "      <td>9</td>\n",
              "      <td>6</td>\n",
              "      <td>3</td>\n",
              "      <td>France v West Germany</td>\n",
              "      <td>France v West Germany 6:3</td>\n",
              "    </tr>\n",
              "    <tr>\n",
              "      <th>228</th>\n",
              "      <td>M-1974-12</td>\n",
              "      <td>9</td>\n",
              "      <td>9</td>\n",
              "      <td>0</td>\n",
              "      <td>Yugoslavia v Zaire</td>\n",
              "      <td>Yugoslavia v Zaire 9:0</td>\n",
              "    </tr>\n",
              "    <tr>\n",
              "      <th>10</th>\n",
              "      <td>M-1930-11</td>\n",
              "      <td>9</td>\n",
              "      <td>6</td>\n",
              "      <td>3</td>\n",
              "      <td>Argentina v Mexico</td>\n",
              "      <td>Argentina v Mexico 6:3</td>\n",
              "    </tr>\n",
              "    <tr>\n",
              "      <th>80</th>\n",
              "      <td>M-1954-06</td>\n",
              "      <td>9</td>\n",
              "      <td>9</td>\n",
              "      <td>0</td>\n",
              "      <td>Hungary v South Korea</td>\n",
              "      <td>Hungary v South Korea 9:0</td>\n",
              "    </tr>\n",
              "    <tr>\n",
              "      <th>91</th>\n",
              "      <td>M-1954-17</td>\n",
              "      <td>9</td>\n",
              "      <td>7</td>\n",
              "      <td>2</td>\n",
              "      <td>West Germany v Turkey</td>\n",
              "      <td>West Germany v Turkey 7:2</td>\n",
              "    </tr>\n",
              "    <tr>\n",
              "      <th>69</th>\n",
              "      <td>M-1950-17</td>\n",
              "      <td>8</td>\n",
              "      <td>7</td>\n",
              "      <td>1</td>\n",
              "      <td>Brazil v Sweden</td>\n",
              "      <td>Brazil v Sweden 7:1</td>\n",
              "    </tr>\n",
              "    <tr>\n",
              "      <th>144</th>\n",
              "      <td>M-1962-13</td>\n",
              "      <td>8</td>\n",
              "      <td>4</td>\n",
              "      <td>4</td>\n",
              "      <td>Soviet Union v Colombia</td>\n",
              "      <td>Soviet Union v Colombia 4:4</td>\n",
              "    </tr>\n",
              "    <tr>\n",
              "      <th>537</th>\n",
              "      <td>M-2002-04</td>\n",
              "      <td>8</td>\n",
              "      <td>8</td>\n",
              "      <td>0</td>\n",
              "      <td>Germany v Saudi Arabia</td>\n",
              "      <td>Germany v Saudi Arabia 8:0</td>\n",
              "    </tr>\n",
              "    <tr>\n",
              "      <th>67</th>\n",
              "      <td>M-1950-15</td>\n",
              "      <td>8</td>\n",
              "      <td>8</td>\n",
              "      <td>0</td>\n",
              "      <td>Uruguay v Bolivia</td>\n",
              "      <td>Uruguay v Bolivia 8:0</td>\n",
              "    </tr>\n",
              "    <tr>\n",
              "      <th>47</th>\n",
              "      <td>M-1938-13</td>\n",
              "      <td>8</td>\n",
              "      <td>8</td>\n",
              "      <td>0</td>\n",
              "      <td>Sweden v Cuba</td>\n",
              "      <td>Sweden v Cuba 8:0</td>\n",
              "    </tr>\n",
              "    <tr>\n",
              "      <th>830</th>\n",
              "      <td>M-2022-02</td>\n",
              "      <td>8</td>\n",
              "      <td>6</td>\n",
              "      <td>2</td>\n",
              "      <td>England v Iran</td>\n",
              "      <td>England v Iran 6:2</td>\n",
              "    </tr>\n",
              "    <tr>\n",
              "      <th>763</th>\n",
              "      <td>M-2014-61</td>\n",
              "      <td>8</td>\n",
              "      <td>1</td>\n",
              "      <td>7</td>\n",
              "      <td>Brazil v Germany</td>\n",
              "      <td>Brazil v Germany 1:7</td>\n",
              "    </tr>\n",
              "    <tr>\n",
              "      <th>82</th>\n",
              "      <td>M-1954-08</td>\n",
              "      <td>8</td>\n",
              "      <td>4</td>\n",
              "      <td>4</td>\n",
              "      <td>England v Belgium</td>\n",
              "      <td>England v Belgium 4:4</td>\n",
              "    </tr>\n",
              "    <tr>\n",
              "      <th>22</th>\n",
              "      <td>M-1934-05</td>\n",
              "      <td>8</td>\n",
              "      <td>7</td>\n",
              "      <td>1</td>\n",
              "      <td>Italy v United States</td>\n",
              "      <td>Italy v United States 7:1</td>\n",
              "    </tr>\n",
              "    <tr>\n",
              "      <th>184</th>\n",
              "      <td>M-1966-26</td>\n",
              "      <td>8</td>\n",
              "      <td>5</td>\n",
              "      <td>3</td>\n",
              "      <td>Portugal v North Korea</td>\n",
              "      <td>Portugal v North Korea 5:3</td>\n",
              "    </tr>\n",
              "  </tbody>\n",
              "</table>\n",
              "</div>\n",
              "    <div class=\"colab-df-buttons\">\n",
              "\n",
              "  <div class=\"colab-df-container\">\n",
              "    <button class=\"colab-df-convert\" onclick=\"convertToInteractive('df-efce2798-1249-4404-8599-b97358697aa8')\"\n",
              "            title=\"Convert this dataframe to an interactive table.\"\n",
              "            style=\"display:none;\">\n",
              "\n",
              "  <svg xmlns=\"http://www.w3.org/2000/svg\" height=\"24px\" viewBox=\"0 -960 960 960\">\n",
              "    <path d=\"M120-120v-720h720v720H120Zm60-500h600v-160H180v160Zm220 220h160v-160H400v160Zm0 220h160v-160H400v160ZM180-400h160v-160H180v160Zm440 0h160v-160H620v160ZM180-180h160v-160H180v160Zm440 0h160v-160H620v160Z\"/>\n",
              "  </svg>\n",
              "    </button>\n",
              "\n",
              "  <style>\n",
              "    .colab-df-container {\n",
              "      display:flex;\n",
              "      gap: 12px;\n",
              "    }\n",
              "\n",
              "    .colab-df-convert {\n",
              "      background-color: #E8F0FE;\n",
              "      border: none;\n",
              "      border-radius: 50%;\n",
              "      cursor: pointer;\n",
              "      display: none;\n",
              "      fill: #1967D2;\n",
              "      height: 32px;\n",
              "      padding: 0 0 0 0;\n",
              "      width: 32px;\n",
              "    }\n",
              "\n",
              "    .colab-df-convert:hover {\n",
              "      background-color: #E2EBFA;\n",
              "      box-shadow: 0px 1px 2px rgba(60, 64, 67, 0.3), 0px 1px 3px 1px rgba(60, 64, 67, 0.15);\n",
              "      fill: #174EA6;\n",
              "    }\n",
              "\n",
              "    .colab-df-buttons div {\n",
              "      margin-bottom: 4px;\n",
              "    }\n",
              "\n",
              "    [theme=dark] .colab-df-convert {\n",
              "      background-color: #3B4455;\n",
              "      fill: #D2E3FC;\n",
              "    }\n",
              "\n",
              "    [theme=dark] .colab-df-convert:hover {\n",
              "      background-color: #434B5C;\n",
              "      box-shadow: 0px 1px 3px 1px rgba(0, 0, 0, 0.15);\n",
              "      filter: drop-shadow(0px 1px 2px rgba(0, 0, 0, 0.3));\n",
              "      fill: #FFFFFF;\n",
              "    }\n",
              "  </style>\n",
              "\n",
              "    <script>\n",
              "      const buttonEl =\n",
              "        document.querySelector('#df-efce2798-1249-4404-8599-b97358697aa8 button.colab-df-convert');\n",
              "      buttonEl.style.display =\n",
              "        google.colab.kernel.accessAllowed ? 'block' : 'none';\n",
              "\n",
              "      async function convertToInteractive(key) {\n",
              "        const element = document.querySelector('#df-efce2798-1249-4404-8599-b97358697aa8');\n",
              "        const dataTable =\n",
              "          await google.colab.kernel.invokeFunction('convertToInteractive',\n",
              "                                                    [key], {});\n",
              "        if (!dataTable) return;\n",
              "\n",
              "        const docLinkHtml = 'Like what you see? Visit the ' +\n",
              "          '<a target=\"_blank\" href=https://colab.research.google.com/notebooks/data_table.ipynb>data table notebook</a>'\n",
              "          + ' to learn more about interactive tables.';\n",
              "        element.innerHTML = '';\n",
              "        dataTable['output_type'] = 'display_data';\n",
              "        await google.colab.output.renderOutput(dataTable, element);\n",
              "        const docLink = document.createElement('div');\n",
              "        docLink.innerHTML = docLinkHtml;\n",
              "        element.appendChild(docLink);\n",
              "      }\n",
              "    </script>\n",
              "  </div>\n",
              "\n",
              "\n",
              "<div id=\"df-58b8c348-1d5e-408c-a199-076e16d3da26\">\n",
              "  <button class=\"colab-df-quickchart\" onclick=\"quickchart('df-58b8c348-1d5e-408c-a199-076e16d3da26')\"\n",
              "            title=\"Suggest charts\"\n",
              "            style=\"display:none;\">\n",
              "\n",
              "<svg xmlns=\"http://www.w3.org/2000/svg\" height=\"24px\"viewBox=\"0 0 24 24\"\n",
              "     width=\"24px\">\n",
              "    <g>\n",
              "        <path d=\"M19 3H5c-1.1 0-2 .9-2 2v14c0 1.1.9 2 2 2h14c1.1 0 2-.9 2-2V5c0-1.1-.9-2-2-2zM9 17H7v-7h2v7zm4 0h-2V7h2v10zm4 0h-2v-4h2v4z\"/>\n",
              "    </g>\n",
              "</svg>\n",
              "  </button>\n",
              "\n",
              "<style>\n",
              "  .colab-df-quickchart {\n",
              "      --bg-color: #E8F0FE;\n",
              "      --fill-color: #1967D2;\n",
              "      --hover-bg-color: #E2EBFA;\n",
              "      --hover-fill-color: #174EA6;\n",
              "      --disabled-fill-color: #AAA;\n",
              "      --disabled-bg-color: #DDD;\n",
              "  }\n",
              "\n",
              "  [theme=dark] .colab-df-quickchart {\n",
              "      --bg-color: #3B4455;\n",
              "      --fill-color: #D2E3FC;\n",
              "      --hover-bg-color: #434B5C;\n",
              "      --hover-fill-color: #FFFFFF;\n",
              "      --disabled-bg-color: #3B4455;\n",
              "      --disabled-fill-color: #666;\n",
              "  }\n",
              "\n",
              "  .colab-df-quickchart {\n",
              "    background-color: var(--bg-color);\n",
              "    border: none;\n",
              "    border-radius: 50%;\n",
              "    cursor: pointer;\n",
              "    display: none;\n",
              "    fill: var(--fill-color);\n",
              "    height: 32px;\n",
              "    padding: 0;\n",
              "    width: 32px;\n",
              "  }\n",
              "\n",
              "  .colab-df-quickchart:hover {\n",
              "    background-color: var(--hover-bg-color);\n",
              "    box-shadow: 0 1px 2px rgba(60, 64, 67, 0.3), 0 1px 3px 1px rgba(60, 64, 67, 0.15);\n",
              "    fill: var(--button-hover-fill-color);\n",
              "  }\n",
              "\n",
              "  .colab-df-quickchart-complete:disabled,\n",
              "  .colab-df-quickchart-complete:disabled:hover {\n",
              "    background-color: var(--disabled-bg-color);\n",
              "    fill: var(--disabled-fill-color);\n",
              "    box-shadow: none;\n",
              "  }\n",
              "\n",
              "  .colab-df-spinner {\n",
              "    border: 2px solid var(--fill-color);\n",
              "    border-color: transparent;\n",
              "    border-bottom-color: var(--fill-color);\n",
              "    animation:\n",
              "      spin 1s steps(1) infinite;\n",
              "  }\n",
              "\n",
              "  @keyframes spin {\n",
              "    0% {\n",
              "      border-color: transparent;\n",
              "      border-bottom-color: var(--fill-color);\n",
              "      border-left-color: var(--fill-color);\n",
              "    }\n",
              "    20% {\n",
              "      border-color: transparent;\n",
              "      border-left-color: var(--fill-color);\n",
              "      border-top-color: var(--fill-color);\n",
              "    }\n",
              "    30% {\n",
              "      border-color: transparent;\n",
              "      border-left-color: var(--fill-color);\n",
              "      border-top-color: var(--fill-color);\n",
              "      border-right-color: var(--fill-color);\n",
              "    }\n",
              "    40% {\n",
              "      border-color: transparent;\n",
              "      border-right-color: var(--fill-color);\n",
              "      border-top-color: var(--fill-color);\n",
              "    }\n",
              "    60% {\n",
              "      border-color: transparent;\n",
              "      border-right-color: var(--fill-color);\n",
              "    }\n",
              "    80% {\n",
              "      border-color: transparent;\n",
              "      border-right-color: var(--fill-color);\n",
              "      border-bottom-color: var(--fill-color);\n",
              "    }\n",
              "    90% {\n",
              "      border-color: transparent;\n",
              "      border-bottom-color: var(--fill-color);\n",
              "    }\n",
              "  }\n",
              "</style>\n",
              "\n",
              "  <script>\n",
              "    async function quickchart(key) {\n",
              "      const quickchartButtonEl =\n",
              "        document.querySelector('#' + key + ' button');\n",
              "      quickchartButtonEl.disabled = true;  // To prevent multiple clicks.\n",
              "      quickchartButtonEl.classList.add('colab-df-spinner');\n",
              "      try {\n",
              "        const charts = await google.colab.kernel.invokeFunction(\n",
              "            'suggestCharts', [key], {});\n",
              "      } catch (error) {\n",
              "        console.error('Error during call to suggestCharts:', error);\n",
              "      }\n",
              "      quickchartButtonEl.classList.remove('colab-df-spinner');\n",
              "      quickchartButtonEl.classList.add('colab-df-quickchart-complete');\n",
              "    }\n",
              "    (() => {\n",
              "      let quickchartButtonEl =\n",
              "        document.querySelector('#df-58b8c348-1d5e-408c-a199-076e16d3da26 button');\n",
              "      quickchartButtonEl.style.display =\n",
              "        google.colab.kernel.accessAllowed ? 'block' : 'none';\n",
              "    })();\n",
              "  </script>\n",
              "</div>\n",
              "    </div>\n",
              "  </div>\n"
            ],
            "application/vnd.google.colaboratory.intrinsic+json": {
              "type": "dataframe",
              "variable_name": "goals_in_matches",
              "summary": "{\n  \"name\": \"goals_in_matches\",\n  \"rows\": 886,\n  \"fields\": [\n    {\n      \"column\": \"match_id\",\n      \"properties\": {\n        \"dtype\": \"string\",\n        \"num_unique_values\": 886,\n        \"samples\": [\n          \"M-1970-16\",\n          \"M-2014-63\",\n          \"M-1990-01\"\n        ],\n        \"semantic_type\": \"\",\n        \"description\": \"\"\n      }\n    },\n    {\n      \"column\": \"total_goals\",\n      \"properties\": {\n        \"dtype\": \"number\",\n        \"std\": 1,\n        \"min\": 1,\n        \"max\": 12,\n        \"num_unique_values\": 12,\n        \"samples\": [\n          2,\n          3,\n          12\n        ],\n        \"semantic_type\": \"\",\n        \"description\": \"\"\n      }\n    },\n    {\n      \"column\": \"home_team\",\n      \"properties\": {\n        \"dtype\": \"number\",\n        \"std\": 1,\n        \"min\": 0,\n        \"max\": 10,\n        \"num_unique_values\": 11,\n        \"samples\": [\n          4,\n          7,\n          2\n        ],\n        \"semantic_type\": \"\",\n        \"description\": \"\"\n      }\n    },\n    {\n      \"column\": \"away_team\",\n      \"properties\": {\n        \"dtype\": \"number\",\n        \"std\": 1,\n        \"min\": 0,\n        \"max\": 7,\n        \"num_unique_values\": 7,\n        \"samples\": [\n          5,\n          3,\n          4\n        ],\n        \"semantic_type\": \"\",\n        \"description\": \"\"\n      }\n    },\n    {\n      \"column\": \"match_name\",\n      \"properties\": {\n        \"dtype\": \"string\",\n        \"num_unique_values\": 708,\n        \"samples\": [\n          \"Ivory Coast v Serbia and Montenegro\",\n          \"Brazil v Bolivia\",\n          \"Czechoslovakia v Netherlands\"\n        ],\n        \"semantic_type\": \"\",\n        \"description\": \"\"\n      }\n    },\n    {\n      \"column\": \"match_result\",\n      \"properties\": {\n        \"dtype\": \"string\",\n        \"num_unique_values\": 876,\n        \"samples\": [\n          \"South Africa v Uruguay 0:3\",\n          \"Republic of Ireland v Cameroon 1:1\",\n          \"Argentina v Uruguay 1:0\"\n        ],\n        \"semantic_type\": \"\",\n        \"description\": \"\"\n      }\n    }\n  ]\n}"
            }
          },
          "metadata": {},
          "execution_count": 33
        }
      ]
    },
    {
      "cell_type": "markdown",
      "source": [
        "## Стал ли футбол \"скучнее\" в 21 веке?"
      ],
      "metadata": {
        "id": "clLjyPPVP46M"
      }
    },
    {
      "cell_type": "markdown",
      "source": [
        "Существует мнение о том, что футбол в 21 веке стал \"скучнее\". Матчи не такие зрелещные, команды играют в удержание и меньше атакуют. Но так ли это на самом деле? Давайте проверим."
      ],
      "metadata": {
        "id": "J39W0gYeQJ_R"
      }
    },
    {
      "cell_type": "markdown",
      "source": [
        "Посмотрим на распредление количества голов на каждом чемпионате мира. Сгруппируем все голы по названию турина и аггрегируем количество голов."
      ],
      "metadata": {
        "id": "DdtazIk3Quuh"
      }
    },
    {
      "cell_type": "code",
      "source": [
        "goals_on_every_wc = df.groupby('tournament_name', as_index=False).agg({'goal_id': 'count'}).rename(columns={'goal_id': 'total_goals'})"
      ],
      "metadata": {
        "id": "qxPdOPhIznWN"
      },
      "execution_count": 34,
      "outputs": []
    },
    {
      "cell_type": "markdown",
      "source": [
        "Создадим колонку 'year', где будет хранится год проведения чемпионата и построим линейный график"
      ],
      "metadata": {
        "id": "1z2NmxFQRH6j"
      }
    },
    {
      "cell_type": "code",
      "source": [
        "goals_on_every_wc['year'] = goals_on_every_wc['tournament_name'].str.extract('(\\d{4})')[0]"
      ],
      "metadata": {
        "id": "GH7hD2mjREw0"
      },
      "execution_count": 35,
      "outputs": []
    },
    {
      "cell_type": "code",
      "source": [
        "goals_on_every_wc.plot(x='year', y='total_goals', marker='o', linestyle='-')\n",
        "plt.title('Distribution of goals in all World Cups')\n",
        "plt.xlabel('Year')\n",
        "plt.ylabel('Goals')\n",
        "plt.show()"
      ],
      "metadata": {
        "colab": {
          "base_uri": "https://localhost:8080/",
          "height": 472
        },
        "id": "U8g0oBzgRRgv",
        "outputId": "ec8bf2a1-f951-4dbf-bbc5-1c24e8db486c"
      },
      "execution_count": 36,
      "outputs": [
        {
          "output_type": "display_data",
          "data": {
            "text/plain": [
              "<Figure size 640x480 with 1 Axes>"
            ],
            "image/png": "[encoded data removed]"
          },
          "metadata": {}
        }
      ]
    },
    {
      "cell_type": "markdown",
      "source": [
        "Кажется, что результат обратно противоположный. С течением времени количество голов на ЧМ увеличивается, это хорошо видно на графике. Однако, здесь не учитывается то, что формат турнира менялся с течением времени. Так в самом первом турнире в 1930 году было сыграно всего лишь 18 матчей, а на последнем в 2022 году целых 64."
      ],
      "metadata": {
        "id": "InRgYDPWRViv"
      }
    },
    {
      "cell_type": "markdown",
      "source": [
        "### Проверка гипотезы"
      ],
      "metadata": {
        "id": "m7poYfiBSZqz"
      }
    },
    {
      "cell_type": "markdown",
      "source": [
        "Для того, чтобы проверить нашу гипотезу нужно сначала ее сформировать. Будем испольщовать среднее количество голов забитое за матч в 20 и 21 веке. Итак, наши гипотезы будут выглядеть так.\n",
        "\n",
        "**H0 - среднее количество голов, забитое за матч в 20 и 21 веке равны**\n",
        "\n",
        "**H1 - среднее количество голов, забитое за матч в 20 и 21 веке имеют статистически значимое отличие**"
      ],
      "metadata": {
        "id": "cMVLk3UUSKbS"
      }
    },
    {
      "cell_type": "markdown",
      "source": [
        "На этом этапе возникает еще одна проблема: в наш дата сет записаны только голы. В нем нет матчей, в которых не было забито ни одного мяча. Но у нас есть другой дата сет, в котором записаны результаты всех матчей без подробной статистики. Но в данном исследовании она и не нужна. Нас интрересует только количество голов и количество матчей. Для этой задачи он подойдет идеально."
      ],
      "metadata": {
        "id": "NMTu4yDSTIVQ"
      }
    },
    {
      "cell_type": "markdown",
      "source": [
        "Загрузим наш дата сет"
      ],
      "metadata": {
        "id": "X0yecMiXT0gq"
      }
    },
    {
      "cell_type": "code",
      "source": [
        "wc_matches = pd.read_csv('wc_matches.csv')"
      ],
      "metadata": {
        "id": "dyny4HnDRTKJ"
      },
      "execution_count": 37,
      "outputs": []
    },
    {
      "cell_type": "code",
      "source": [
        "wc_matches.head(10)"
      ],
      "metadata": {
        "colab": {
          "base_uri": "https://localhost:8080/",
          "height": 363
        },
        "id": "HcpxSKJVUVmU",
        "outputId": "80834c29-e55b-4e40-c367-b7c1d575bff5"
      },
      "execution_count": 38,
      "outputs": [
        {
          "output_type": "execute_result",
          "data": {
            "text/plain": [
              "   year  country        city    stage  home_team      away_team  home_score  \\\n",
              "0  1930  Uruguay  Montevideo  Group 1     France         Mexico           4   \n",
              "1  1930  Uruguay  Montevideo  Group 4    Belgium  United States           0   \n",
              "2  1930  Uruguay  Montevideo  Group 2     Brazil     Yugoslavia           1   \n",
              "3  1930  Uruguay  Montevideo  Group 3       Peru        Romania           1   \n",
              "4  1930  Uruguay  Montevideo  Group 1  Argentina         France           1   \n",
              "5  1930  Uruguay  Montevideo  Group 1      Chile         Mexico           3   \n",
              "6  1930  Uruguay  Montevideo  Group 2    Bolivia     Yugoslavia           0   \n",
              "7  1930  Uruguay  Montevideo  Group 4   Paraguay  United States           0   \n",
              "8  1930  Uruguay  Montevideo  Group 3    Uruguay           Peru           1   \n",
              "9  1930  Uruguay  Montevideo  Group 1  Argentina         Mexico           6   \n",
              "\n",
              "   away_score outcome win_conditions   winning_team losing_team        date  \\\n",
              "0           1       H            NaN         France      Mexico  1930-07-13   \n",
              "1           3       A            NaN  United States     Belgium  1930-07-13   \n",
              "2           2       A            NaN     Yugoslavia      Brazil  1930-07-14   \n",
              "3           3       A            NaN        Romania        Peru  1930-07-14   \n",
              "4           0       H            NaN      Argentina      France  1930-07-15   \n",
              "5           0       H            NaN          Chile      Mexico  1930-07-16   \n",
              "6           4       A            NaN     Yugoslavia     Bolivia  1930-07-17   \n",
              "7           3       A            NaN  United States    Paraguay  1930-07-17   \n",
              "8           0       H            NaN        Uruguay        Peru  1930-07-18   \n",
              "9           3       H            NaN      Argentina      Mexico  1930-07-19   \n",
              "\n",
              "  month  dayofweek  \n",
              "0   Jul     Sunday  \n",
              "1   Jul     Sunday  \n",
              "2   Jul     Monday  \n",
              "3   Jul     Monday  \n",
              "4   Jul    Tuesday  \n",
              "5   Jul  Wednesday  \n",
              "6   Jul   Thursday  \n",
              "7   Jul   Thursday  \n",
              "8   Jul     Friday  \n",
              "9   Jul   Saturday  "
            ],
            "text/html": [
              "\n",
              "  <div id=\"df-3c1c4e63-0f86-4371-b08a-d4c7fa726cda\" class=\"colab-df-container\">\n",
              "    <div>\n",
              "<style scoped>\n",
              "    .dataframe tbody tr th:only-of-type {\n",
              "        vertical-align: middle;\n",
              "    }\n",
              "\n",
              "    .dataframe tbody tr th {\n",
              "        vertical-align: top;\n",
              "    }\n",
              "\n",
              "    .dataframe thead th {\n",
              "        text-align: right;\n",
              "    }\n",
              "</style>\n",
              "<table border=\"1\" class=\"dataframe\">\n",
              "  <thead>\n",
              "    <tr style=\"text-align: right;\">\n",
              "      <th></th>\n",
              "      <th>year</th>\n",
              "      <th>country</th>\n",
              "      <th>city</th>\n",
              "      <th>stage</th>\n",
              "      <th>home_team</th>\n",
              "      <th>away_team</th>\n",
              "      <th>home_score</th>\n",
              "      <th>away_score</th>\n",
              "      <th>outcome</th>\n",
              "      <th>win_conditions</th>\n",
              "      <th>winning_team</th>\n",
              "      <th>losing_team</th>\n",
              "      <th>date</th>\n",
              "      <th>month</th>\n",
              "      <th>dayofweek</th>\n",
              "    </tr>\n",
              "  </thead>\n",
              "  <tbody>\n",
              "    <tr>\n",
              "      <th>0</th>\n",
              "      <td>1930</td>\n",
              "      <td>Uruguay</td>\n",
              "      <td>Montevideo</td>\n",
              "      <td>Group 1</td>\n",
              "      <td>France</td>\n",
              "      <td>Mexico</td>\n",
              "      <td>4</td>\n",
              "      <td>1</td>\n",
              "      <td>H</td>\n",
              "      <td>NaN</td>\n",
              "      <td>France</td>\n",
              "      <td>Mexico</td>\n",
              "      <td>1930-07-13</td>\n",
              "      <td>Jul</td>\n",
              "      <td>Sunday</td>\n",
              "    </tr>\n",
              "    <tr>\n",
              "      <th>1</th>\n",
              "      <td>1930</td>\n",
              "      <td>Uruguay</td>\n",
              "      <td>Montevideo</td>\n",
              "      <td>Group 4</td>\n",
              "      <td>Belgium</td>\n",
              "      <td>United States</td>\n",
              "      <td>0</td>\n",
              "      <td>3</td>\n",
              "      <td>A</td>\n",
              "      <td>NaN</td>\n",
              "      <td>United States</td>\n",
              "      <td>Belgium</td>\n",
              "      <td>1930-07-13</td>\n",
              "      <td>Jul</td>\n",
              "      <td>Sunday</td>\n",
              "    </tr>\n",
              "    <tr>\n",
              "      <th>2</th>\n",
              "      <td>1930</td>\n",
              "      <td>Uruguay</td>\n",
              "      <td>Montevideo</td>\n",
              "      <td>Group 2</td>\n",
              "      <td>Brazil</td>\n",
              "      <td>Yugoslavia</td>\n",
              "      <td>1</td>\n",
              "      <td>2</td>\n",
              "      <td>A</td>\n",
              "      <td>NaN</td>\n",
              "      <td>Yugoslavia</td>\n",
              "      <td>Brazil</td>\n",
              "      <td>1930-07-14</td>\n",
              "      <td>Jul</td>\n",
              "      <td>Monday</td>\n",
              "    </tr>\n",
              "    <tr>\n",
              "      <th>3</th>\n",
              "      <td>1930</td>\n",
              "      <td>Uruguay</td>\n",
              "      <td>Montevideo</td>\n",
              "      <td>Group 3</td>\n",
              "      <td>Peru</td>\n",
              "      <td>Romania</td>\n",
              "      <td>1</td>\n",
              "      <td>3</td>\n",
              "      <td>A</td>\n",
              "      <td>NaN</td>\n",
              "      <td>Romania</td>\n",
              "      <td>Peru</td>\n",
              "      <td>1930-07-14</td>\n",
              "      <td>Jul</td>\n",
              "      <td>Monday</td>\n",
              "    </tr>\n",
              "    <tr>\n",
              "      <th>4</th>\n",
              "      <td>1930</td>\n",
              "      <td>Uruguay</td>\n",
              "      <td>Montevideo</td>\n",
              "      <td>Group 1</td>\n",
              "      <td>Argentina</td>\n",
              "      <td>France</td>\n",
              "      <td>1</td>\n",
              "      <td>0</td>\n",
              "      <td>H</td>\n",
              "      <td>NaN</td>\n",
              "      <td>Argentina</td>\n",
              "      <td>France</td>\n",
              "      <td>1930-07-15</td>\n",
              "      <td>Jul</td>\n",
              "      <td>Tuesday</td>\n",
              "    </tr>\n",
              "    <tr>\n",
              "      <th>5</th>\n",
              "      <td>1930</td>\n",
              "      <td>Uruguay</td>\n",
              "      <td>Montevideo</td>\n",
              "      <td>Group 1</td>\n",
              "      <td>Chile</td>\n",
              "      <td>Mexico</td>\n",
              "      <td>3</td>\n",
              "      <td>0</td>\n",
              "      <td>H</td>\n",
              "      <td>NaN</td>\n",
              "      <td>Chile</td>\n",
              "      <td>Mexico</td>\n",
              "      <td>1930-07-16</td>\n",
              "      <td>Jul</td>\n",
              "      <td>Wednesday</td>\n",
              "    </tr>\n",
              "    <tr>\n",
              "      <th>6</th>\n",
              "      <td>1930</td>\n",
              "      <td>Uruguay</td>\n",
              "      <td>Montevideo</td>\n",
              "      <td>Group 2</td>\n",
              "      <td>Bolivia</td>\n",
              "      <td>Yugoslavia</td>\n",
              "      <td>0</td>\n",
              "      <td>4</td>\n",
              "      <td>A</td>\n",
              "      <td>NaN</td>\n",
              "      <td>Yugoslavia</td>\n",
              "      <td>Bolivia</td>\n",
              "      <td>1930-07-17</td>\n",
              "      <td>Jul</td>\n",
              "      <td>Thursday</td>\n",
              "    </tr>\n",
              "    <tr>\n",
              "      <th>7</th>\n",
              "      <td>1930</td>\n",
              "      <td>Uruguay</td>\n",
              "      <td>Montevideo</td>\n",
              "      <td>Group 4</td>\n",
              "      <td>Paraguay</td>\n",
              "      <td>United States</td>\n",
              "      <td>0</td>\n",
              "      <td>3</td>\n",
              "      <td>A</td>\n",
              "      <td>NaN</td>\n",
              "      <td>United States</td>\n",
              "      <td>Paraguay</td>\n",
              "      <td>1930-07-17</td>\n",
              "      <td>Jul</td>\n",
              "      <td>Thursday</td>\n",
              "    </tr>\n",
              "    <tr>\n",
              "      <th>8</th>\n",
              "      <td>1930</td>\n",
              "      <td>Uruguay</td>\n",
              "      <td>Montevideo</td>\n",
              "      <td>Group 3</td>\n",
              "      <td>Uruguay</td>\n",
              "      <td>Peru</td>\n",
              "      <td>1</td>\n",
              "      <td>0</td>\n",
              "      <td>H</td>\n",
              "      <td>NaN</td>\n",
              "      <td>Uruguay</td>\n",
              "      <td>Peru</td>\n",
              "      <td>1930-07-18</td>\n",
              "      <td>Jul</td>\n",
              "      <td>Friday</td>\n",
              "    </tr>\n",
              "    <tr>\n",
              "      <th>9</th>\n",
              "      <td>1930</td>\n",
              "      <td>Uruguay</td>\n",
              "      <td>Montevideo</td>\n",
              "      <td>Group 1</td>\n",
              "      <td>Argentina</td>\n",
              "      <td>Mexico</td>\n",
              "      <td>6</td>\n",
              "      <td>3</td>\n",
              "      <td>H</td>\n",
              "      <td>NaN</td>\n",
              "      <td>Argentina</td>\n",
              "      <td>Mexico</td>\n",
              "      <td>1930-07-19</td>\n",
              "      <td>Jul</td>\n",
              "      <td>Saturday</td>\n",
              "    </tr>\n",
              "  </tbody>\n",
              "</table>\n",
              "</div>\n",
              "    <div class=\"colab-df-buttons\">\n",
              "\n",
              "  <div class=\"colab-df-container\">\n",
              "    <button class=\"colab-df-convert\" onclick=\"convertToInteractive('df-3c1c4e63-0f86-4371-b08a-d4c7fa726cda')\"\n",
              "            title=\"Convert this dataframe to an interactive table.\"\n",
              "            style=\"display:none;\">\n",
              "\n",
              "  <svg xmlns=\"http://www.w3.org/2000/svg\" height=\"24px\" viewBox=\"0 -960 960 960\">\n",
              "    <path d=\"M120-120v-720h720v720H120Zm60-500h600v-160H180v160Zm220 220h160v-160H400v160Zm0 220h160v-160H400v160ZM180-400h160v-160H180v160Zm440 0h160v-160H620v160ZM180-180h160v-160H180v160Zm440 0h160v-160H620v160Z\"/>\n",
              "  </svg>\n",
              "    </button>\n",
              "\n",
              "  <style>\n",
              "    .colab-df-container {\n",
              "      display:flex;\n",
              "      gap: 12px;\n",
              "    }\n",
              "\n",
              "    .colab-df-convert {\n",
              "      background-color: #E8F0FE;\n",
              "      border: none;\n",
              "      border-radius: 50%;\n",
              "      cursor: pointer;\n",
              "      display: none;\n",
              "      fill: #1967D2;\n",
              "      height: 32px;\n",
              "      padding: 0 0 0 0;\n",
              "      width: 32px;\n",
              "    }\n",
              "\n",
              "    .colab-df-convert:hover {\n",
              "      background-color: #E2EBFA;\n",
              "      box-shadow: 0px 1px 2px rgba(60, 64, 67, 0.3), 0px 1px 3px 1px rgba(60, 64, 67, 0.15);\n",
              "      fill: #174EA6;\n",
              "    }\n",
              "\n",
              "    .colab-df-buttons div {\n",
              "      margin-bottom: 4px;\n",
              "    }\n",
              "\n",
              "    [theme=dark] .colab-df-convert {\n",
              "      background-color: #3B4455;\n",
              "      fill: #D2E3FC;\n",
              "    }\n",
              "\n",
              "    [theme=dark] .colab-df-convert:hover {\n",
              "      background-color: #434B5C;\n",
              "      box-shadow: 0px 1px 3px 1px rgba(0, 0, 0, 0.15);\n",
              "      filter: drop-shadow(0px 1px 2px rgba(0, 0, 0, 0.3));\n",
              "      fill: #FFFFFF;\n",
              "    }\n",
              "  </style>\n",
              "\n",
              "    <script>\n",
              "      const buttonEl =\n",
              "        document.querySelector('#df-3c1c4e63-0f86-4371-b08a-d4c7fa726cda button.colab-df-convert');\n",
              "      buttonEl.style.display =\n",
              "        google.colab.kernel.accessAllowed ? 'block' : 'none';\n",
              "\n",
              "      async function convertToInteractive(key) {\n",
              "        const element = document.querySelector('#df-3c1c4e63-0f86-4371-b08a-d4c7fa726cda');\n",
              "        const dataTable =\n",
              "          await google.colab.kernel.invokeFunction('convertToInteractive',\n",
              "                                                    [key], {});\n",
              "        if (!dataTable) return;\n",
              "\n",
              "        const docLinkHtml = 'Like what you see? Visit the ' +\n",
              "          '<a target=\"_blank\" href=https://colab.research.google.com/notebooks/data_table.ipynb>data table notebook</a>'\n",
              "          + ' to learn more about interactive tables.';\n",
              "        element.innerHTML = '';\n",
              "        dataTable['output_type'] = 'display_data';\n",
              "        await google.colab.output.renderOutput(dataTable, element);\n",
              "        const docLink = document.createElement('div');\n",
              "        docLink.innerHTML = docLinkHtml;\n",
              "        element.appendChild(docLink);\n",
              "      }\n",
              "    </script>\n",
              "  </div>\n",
              "\n",
              "\n",
              "<div id=\"df-3e7dd1a9-6385-4153-baaf-ac9631780cb6\">\n",
              "  <button class=\"colab-df-quickchart\" onclick=\"quickchart('df-3e7dd1a9-6385-4153-baaf-ac9631780cb6')\"\n",
              "            title=\"Suggest charts\"\n",
              "            style=\"display:none;\">\n",
              "\n",
              "<svg xmlns=\"http://www.w3.org/2000/svg\" height=\"24px\"viewBox=\"0 0 24 24\"\n",
              "     width=\"24px\">\n",
              "    <g>\n",
              "        <path d=\"M19 3H5c-1.1 0-2 .9-2 2v14c0 1.1.9 2 2 2h14c1.1 0 2-.9 2-2V5c0-1.1-.9-2-2-2zM9 17H7v-7h2v7zm4 0h-2V7h2v10zm4 0h-2v-4h2v4z\"/>\n",
              "    </g>\n",
              "</svg>\n",
              "  </button>\n",
              "\n",
              "<style>\n",
              "  .colab-df-quickchart {\n",
              "      --bg-color: #E8F0FE;\n",
              "      --fill-color: #1967D2;\n",
              "      --hover-bg-color: #E2EBFA;\n",
              "      --hover-fill-color: #174EA6;\n",
              "      --disabled-fill-color: #AAA;\n",
              "      --disabled-bg-color: #DDD;\n",
              "  }\n",
              "\n",
              "  [theme=dark] .colab-df-quickchart {\n",
              "      --bg-color: #3B4455;\n",
              "      --fill-color: #D2E3FC;\n",
              "      --hover-bg-color: #434B5C;\n",
              "      --hover-fill-color: #FFFFFF;\n",
              "      --disabled-bg-color: #3B4455;\n",
              "      --disabled-fill-color: #666;\n",
              "  }\n",
              "\n",
              "  .colab-df-quickchart {\n",
              "    background-color: var(--bg-color);\n",
              "    border: none;\n",
              "    border-radius: 50%;\n",
              "    cursor: pointer;\n",
              "    display: none;\n",
              "    fill: var(--fill-color);\n",
              "    height: 32px;\n",
              "    padding: 0;\n",
              "    width: 32px;\n",
              "  }\n",
              "\n",
              "  .colab-df-quickchart:hover {\n",
              "    background-color: var(--hover-bg-color);\n",
              "    box-shadow: 0 1px 2px rgba(60, 64, 67, 0.3), 0 1px 3px 1px rgba(60, 64, 67, 0.15);\n",
              "    fill: var(--button-hover-fill-color);\n",
              "  }\n",
              "\n",
              "  .colab-df-quickchart-complete:disabled,\n",
              "  .colab-df-quickchart-complete:disabled:hover {\n",
              "    background-color: var(--disabled-bg-color);\n",
              "    fill: var(--disabled-fill-color);\n",
              "    box-shadow: none;\n",
              "  }\n",
              "\n",
              "  .colab-df-spinner {\n",
              "    border: 2px solid var(--fill-color);\n",
              "    border-color: transparent;\n",
              "    border-bottom-color: var(--fill-color);\n",
              "    animation:\n",
              "      spin 1s steps(1) infinite;\n",
              "  }\n",
              "\n",
              "  @keyframes spin {\n",
              "    0% {\n",
              "      border-color: transparent;\n",
              "      border-bottom-color: var(--fill-color);\n",
              "      border-left-color: var(--fill-color);\n",
              "    }\n",
              "    20% {\n",
              "      border-color: transparent;\n",
              "      border-left-color: var(--fill-color);\n",
              "      border-top-color: var(--fill-color);\n",
              "    }\n",
              "    30% {\n",
              "      border-color: transparent;\n",
              "      border-left-color: var(--fill-color);\n",
              "      border-top-color: var(--fill-color);\n",
              "      border-right-color: var(--fill-color);\n",
              "    }\n",
              "    40% {\n",
              "      border-color: transparent;\n",
              "      border-right-color: var(--fill-color);\n",
              "      border-top-color: var(--fill-color);\n",
              "    }\n",
              "    60% {\n",
              "      border-color: transparent;\n",
              "      border-right-color: var(--fill-color);\n",
              "    }\n",
              "    80% {\n",
              "      border-color: transparent;\n",
              "      border-right-color: var(--fill-color);\n",
              "      border-bottom-color: var(--fill-color);\n",
              "    }\n",
              "    90% {\n",
              "      border-color: transparent;\n",
              "      border-bottom-color: var(--fill-color);\n",
              "    }\n",
              "  }\n",
              "</style>\n",
              "\n",
              "  <script>\n",
              "    async function quickchart(key) {\n",
              "      const quickchartButtonEl =\n",
              "        document.querySelector('#' + key + ' button');\n",
              "      quickchartButtonEl.disabled = true;  // To prevent multiple clicks.\n",
              "      quickchartButtonEl.classList.add('colab-df-spinner');\n",
              "      try {\n",
              "        const charts = await google.colab.kernel.invokeFunction(\n",
              "            'suggestCharts', [key], {});\n",
              "      } catch (error) {\n",
              "        console.error('Error during call to suggestCharts:', error);\n",
              "      }\n",
              "      quickchartButtonEl.classList.remove('colab-df-spinner');\n",
              "      quickchartButtonEl.classList.add('colab-df-quickchart-complete');\n",
              "    }\n",
              "    (() => {\n",
              "      let quickchartButtonEl =\n",
              "        document.querySelector('#df-3e7dd1a9-6385-4153-baaf-ac9631780cb6 button');\n",
              "      quickchartButtonEl.style.display =\n",
              "        google.colab.kernel.accessAllowed ? 'block' : 'none';\n",
              "    })();\n",
              "  </script>\n",
              "</div>\n",
              "    </div>\n",
              "  </div>\n"
            ],
            "application/vnd.google.colaboratory.intrinsic+json": {
              "type": "dataframe",
              "variable_name": "wc_matches",
              "summary": "{\n  \"name\": \"wc_matches\",\n  \"rows\": 900,\n  \"fields\": [\n    {\n      \"column\": \"year\",\n      \"properties\": {\n        \"dtype\": \"number\",\n        \"std\": 23,\n        \"min\": 1930,\n        \"max\": 2018,\n        \"num_unique_values\": 21,\n        \"samples\": [\n          1930,\n          2006,\n          1998\n        ],\n        \"semantic_type\": \"\",\n        \"description\": \"\"\n      }\n    },\n    {\n      \"column\": \"country\",\n      \"properties\": {\n        \"dtype\": \"category\",\n        \"num_unique_values\": 17,\n        \"samples\": [\n          \"Uruguay\",\n          \"Italy\",\n          \"Sweden\"\n        ],\n        \"semantic_type\": \"\",\n        \"description\": \"\"\n      }\n    },\n    {\n      \"column\": \"city\",\n      \"properties\": {\n        \"dtype\": \"category\",\n        \"num_unique_values\": 161,\n        \"samples\": [\n          \"Saint-Denis\",\n          \"Lyon\",\n          \"Bloemfontein\"\n        ],\n        \"semantic_type\": \"\",\n        \"description\": \"\"\n      }\n    },\n    {\n      \"column\": \"stage\",\n      \"properties\": {\n        \"dtype\": \"category\",\n        \"num_unique_values\": 22,\n        \"samples\": [\n          \"Group 1\",\n          \"Group 5\",\n          \"Third place\"\n        ],\n        \"semantic_type\": \"\",\n        \"description\": \"\"\n      }\n    },\n    {\n      \"column\": \"home_team\",\n      \"properties\": {\n        \"dtype\": \"category\",\n        \"num_unique_values\": 81,\n        \"samples\": [\n          \"Israel\",\n          \"France\",\n          \"West Germany\"\n        ],\n        \"semantic_type\": \"\",\n        \"description\": \"\"\n      }\n    },\n    {\n      \"column\": \"away_team\",\n      \"properties\": {\n        \"dtype\": \"category\",\n        \"num_unique_values\": 82,\n        \"samples\": [\n          \"Soviet Union\",\n          \"Mexico\",\n          \"Italy\"\n        ],\n        \"semantic_type\": \"\",\n        \"description\": \"\"\n      }\n    },\n    {\n      \"column\": \"home_score\",\n      \"properties\": {\n        \"dtype\": \"number\",\n        \"std\": 1,\n        \"min\": 0,\n        \"max\": 10,\n        \"num_unique_values\": 11,\n        \"samples\": [\n          2,\n          4,\n          10\n        ],\n        \"semantic_type\": \"\",\n        \"description\": \"\"\n      }\n    },\n    {\n      \"column\": \"away_score\",\n      \"properties\": {\n        \"dtype\": \"number\",\n        \"std\": 1,\n        \"min\": 0,\n        \"max\": 8,\n        \"num_unique_values\": 9,\n        \"samples\": [\n          7,\n          3,\n          5\n        ],\n        \"semantic_type\": \"\",\n        \"description\": \"\"\n      }\n    },\n    {\n      \"column\": \"outcome\",\n      \"properties\": {\n        \"dtype\": \"category\",\n        \"num_unique_values\": 3,\n        \"samples\": [\n          \"H\",\n          \"A\",\n          \"D\"\n        ],\n        \"semantic_type\": \"\",\n        \"description\": \"\"\n      }\n    },\n    {\n      \"column\": \"win_conditions\",\n      \"properties\": {\n        \"dtype\": \"category\",\n        \"num_unique_values\": 48,\n        \"samples\": [\n          \"Senegal won in AET\",\n          \"Germany won in AET\",\n          \"Spain won in penalties (3 - 2)\"\n        ],\n        \"semantic_type\": \"\",\n        \"description\": \"\"\n      }\n    },\n    {\n      \"column\": \"winning_team\",\n      \"properties\": {\n        \"dtype\": \"category\",\n        \"num_unique_values\": 66,\n        \"samples\": [\n          \"Japan\",\n          \"Slovenia\",\n          \"France\"\n        ],\n        \"semantic_type\": \"\",\n        \"description\": \"\"\n      }\n    },\n    {\n      \"column\": \"losing_team\",\n      \"properties\": {\n        \"dtype\": \"category\",\n        \"num_unique_values\": 85,\n        \"samples\": [\n          \"Trinidad and Tobago\",\n          \"Mexico\",\n          \"Slovenia\"\n        ],\n        \"semantic_type\": \"\",\n        \"description\": \"\"\n      }\n    },\n    {\n      \"column\": \"date\",\n      \"properties\": {\n        \"dtype\": \"object\",\n        \"num_unique_values\": 355,\n        \"samples\": [\n          \"1998-07-08\",\n          \"1954-06-30\",\n          \"2006-06-10\"\n        ],\n        \"semantic_type\": \"\",\n        \"description\": \"\"\n      }\n    },\n    {\n      \"column\": \"month\",\n      \"properties\": {\n        \"dtype\": \"category\",\n        \"num_unique_values\": 3,\n        \"samples\": [\n          \"Jul\",\n          \"May\",\n          \"Jun\"\n        ],\n        \"semantic_type\": \"\",\n        \"description\": \"\"\n      }\n    },\n    {\n      \"column\": \"dayofweek\",\n      \"properties\": {\n        \"dtype\": \"category\",\n        \"num_unique_values\": 7,\n        \"samples\": [\n          \"Sunday\",\n          \"Monday\",\n          \"Friday\"\n        ],\n        \"semantic_type\": \"\",\n        \"description\": \"\"\n      }\n    }\n  ]\n}"
            }
          },
          "metadata": {},
          "execution_count": 38
        }
      ]
    },
    {
      "cell_type": "markdown",
      "source": [
        "Создадим 2 дата сета, в которых будет хранится нужная нам информация по матчам (year, home_score, away_score) для 20 и 21 века."
      ],
      "metadata": {
        "id": "Q2MdvZ7FUvjr"
      }
    },
    {
      "cell_type": "code",
      "source": [
        "matches_21_century = wc_matches[wc_matches['year'] > 2000][['year', 'home_score', 'away_score']]\n",
        "matches_20_century = wc_matches[wc_matches['year'] < 2000][['year', 'home_score', 'away_score']]"
      ],
      "metadata": {
        "id": "Z9UU6bvkUuuk"
      },
      "execution_count": 39,
      "outputs": []
    },
    {
      "cell_type": "markdown",
      "source": [
        "Создадим колонку goals, в которой будем хранить количество мячей в матче"
      ],
      "metadata": {
        "id": "JETo_b-oVwut"
      }
    },
    {
      "cell_type": "code",
      "source": [
        "matches_21_century['goals'] = matches_21_century['home_score'] + matches_21_century['away_score']\n",
        "matches_20_century['goals'] = matches_20_century['home_score'] + matches_20_century['away_score']"
      ],
      "metadata": {
        "id": "KnjT2tQBV7sN"
      },
      "execution_count": 40,
      "outputs": []
    },
    {
      "cell_type": "markdown",
      "source": [
        "Построим гистограммы частот для количества голов в каждой категории"
      ],
      "metadata": {
        "id": "t8r4lj2fWvM7"
      }
    },
    {
      "cell_type": "code",
      "source": [
        "value_counts = matches_21_century['goals'].value_counts().sort_index()\n",
        "value_counts.plot(kind='bar')\n",
        "plt.title('Goals per match in 21st century')\n",
        "plt.xlabel('Goals')\n",
        "plt.ylabel('Frequency')\n"
      ],
      "metadata": {
        "colab": {
          "base_uri": "https://localhost:8080/",
          "height": 484
        },
        "id": "1ZaG-_kAWuWI",
        "outputId": "3dfa4078-d6e4-4e52-caad-bb0e8246e9c4"
      },
      "execution_count": 41,
      "outputs": [
        {
          "output_type": "execute_result",
          "data": {
            "text/plain": [
              "Text(0, 0.5, 'Frequency')"
            ]
          },
          "metadata": {},
          "execution_count": 41
        },
        {
          "output_type": "display_data",
          "data": {
            "text/plain": [
              "<Figure size 640x480 with 1 Axes>"
            ],
            "image/png": "[encoded data removed]"
          },
          "metadata": {}
        }
      ]
    },
    {
      "cell_type": "code",
      "source": [
        "value_counts = matches_20_century['goals'].value_counts().sort_index()\n",
        "value_counts.plot(kind='bar')\n",
        "plt.title('Goals per match in 20st century')\n",
        "plt.xlabel('Goals')\n",
        "plt.ylabel('Frequency')\n"
      ],
      "metadata": {
        "colab": {
          "base_uri": "https://localhost:8080/",
          "height": 492
        },
        "id": "28OqKslJWJL0",
        "outputId": "fa8c1929-f3d0-4720-b224-a0dddc3f1421"
      },
      "execution_count": 42,
      "outputs": [
        {
          "output_type": "execute_result",
          "data": {
            "text/plain": [
              "Text(0, 0.5, 'Frequency')"
            ]
          },
          "metadata": {},
          "execution_count": 42
        },
        {
          "output_type": "display_data",
          "data": {
            "text/plain": [
              "<Figure size 640x480 with 1 Axes>"
            ],
            "image/png": "[encoded data removed]"
          },
          "metadata": {}
        }
      ]
    },
    {
      "cell_type": "markdown",
      "source": [
        "Кажется, что оба распредления не являются нормальными. Наш \"колокол\" скошен влево, а справа есть несколько выбросов (те самые игры с аномальным счетом)."
      ],
      "metadata": {
        "id": "2rj2jqibf3Vq"
      }
    },
    {
      "cell_type": "markdown",
      "source": [
        "Давайте проверим каждую выборку на нормальность распределения с помощью теста Шапиро-Уитни. Зададим уровень значимости 0.05"
      ],
      "metadata": {
        "id": "Z9HxO26rbsp2"
      }
    },
    {
      "cell_type": "code",
      "source": [
        "stat_21, p_21 = shapiro(matches_21_century['goals'])\n",
        "stat_20, p_20 = shapiro(matches_20_century['goals'])"
      ],
      "metadata": {
        "id": "5rjKY8jdYtr0"
      },
      "execution_count": 43,
      "outputs": []
    },
    {
      "cell_type": "code",
      "source": [
        "p_21"
      ],
      "metadata": {
        "colab": {
          "base_uri": "https://localhost:8080/"
        },
        "id": "JXWcKfNAcON1",
        "outputId": "bf955532-5c98-426e-cbc0-99571877f5a2"
      },
      "execution_count": 45,
      "outputs": [
        {
          "output_type": "execute_result",
          "data": {
            "text/plain": [
              "2.1687202381159842e-11"
            ]
          },
          "metadata": {},
          "execution_count": 45
        }
      ]
    },
    {
      "cell_type": "code",
      "source": [
        "p_21 > 0.05"
      ],
      "metadata": {
        "colab": {
          "base_uri": "https://localhost:8080/"
        },
        "id": "aT8yGONDd3nX",
        "outputId": "1a6e348f-0c26-4409-f74d-c4b27debf2c9"
      },
      "execution_count": 46,
      "outputs": [
        {
          "output_type": "execute_result",
          "data": {
            "text/plain": [
              "False"
            ]
          },
          "metadata": {},
          "execution_count": 46
        }
      ]
    },
    {
      "cell_type": "code",
      "source": [
        "p_20"
      ],
      "metadata": {
        "colab": {
          "base_uri": "https://localhost:8080/"
        },
        "id": "96kSwlRJd50O",
        "outputId": "fa666f3c-9e1e-4967-f8ca-8244f3b35a79"
      },
      "execution_count": 47,
      "outputs": [
        {
          "output_type": "execute_result",
          "data": {
            "text/plain": [
              "5.739549248945527e-16"
            ]
          },
          "metadata": {},
          "execution_count": 47
        }
      ]
    },
    {
      "cell_type": "code",
      "source": [
        "p_20 > 0.05"
      ],
      "metadata": {
        "colab": {
          "base_uri": "https://localhost:8080/"
        },
        "id": "R6opJQHHcTXF",
        "outputId": "d1518fc2-111c-4592-84d4-5c695ac383dc"
      },
      "execution_count": 48,
      "outputs": [
        {
          "output_type": "execute_result",
          "data": {
            "text/plain": [
              "False"
            ]
          },
          "metadata": {},
          "execution_count": 48
        }
      ]
    },
    {
      "cell_type": "markdown",
      "source": [
        "Действительно, оба распредления не нормальны, а значит мы не можем применить t-тест. Мы можем испольщовать тест Мана-Уитни, так как он не так чувствителен к выбросам(которые у нас есть). Также мы можем его использовать, потому что распредление выборок имеет одинаковую форму"
      ],
      "metadata": {
        "id": "5e63yp-bgEb7"
      }
    },
    {
      "cell_type": "code",
      "source": [
        "matches_21_century['goals'].mean()"
      ],
      "metadata": {
        "colab": {
          "base_uri": "https://localhost:8080/"
        },
        "id": "IZ0NTt7giEp7",
        "outputId": "7ea9e672-bb5d-4490-a9d0-6ba86df713e2"
      },
      "execution_count": 50,
      "outputs": [
        {
          "output_type": "execute_result",
          "data": {
            "text/plain": [
              "2.478125"
            ]
          },
          "metadata": {},
          "execution_count": 50
        }
      ]
    },
    {
      "cell_type": "code",
      "source": [
        "matches_20_century['goals'].mean()"
      ],
      "metadata": {
        "colab": {
          "base_uri": "https://localhost:8080/"
        },
        "id": "CGUJLcX6iGtv",
        "outputId": "d1957af2-c81c-4575-f605-00d18afd0abf"
      },
      "execution_count": 51,
      "outputs": [
        {
          "output_type": "execute_result",
          "data": {
            "text/plain": [
              "3.0258620689655173"
            ]
          },
          "metadata": {},
          "execution_count": 51
        }
      ]
    },
    {
      "cell_type": "markdown",
      "source": [
        "Среднее количество мячей в 20 веке больше, чем в 21. Проверим эту гипотезу с помощью Мана-Уитни. Как и с Шапиро будем использовать библиотеку scipy.stats"
      ],
      "metadata": {
        "id": "8Cc-xi-Jig02"
      }
    },
    {
      "cell_type": "code",
      "source": [
        "stat, p = mannwhitneyu(matches_21_century['goals'], matches_20_century['goals'])"
      ],
      "metadata": {
        "id": "RcggEeBJf19Y"
      },
      "execution_count": 52,
      "outputs": []
    },
    {
      "cell_type": "code",
      "source": [
        "p"
      ],
      "metadata": {
        "colab": {
          "base_uri": "https://localhost:8080/"
        },
        "id": "pnlNbRFzh27E",
        "outputId": "3145929e-a2e2-49c9-fd0e-35c48819a42c"
      },
      "execution_count": 53,
      "outputs": [
        {
          "output_type": "execute_result",
          "data": {
            "text/plain": [
              "0.0002863640930266795"
            ]
          },
          "metadata": {},
          "execution_count": 53
        }
      ]
    },
    {
      "cell_type": "code",
      "source": [
        "p < 0.05"
      ],
      "metadata": {
        "id": "cyOhXV5lh3v_",
        "colab": {
          "base_uri": "https://localhost:8080/"
        },
        "outputId": "1eb3e43a-136c-4290-df5f-1b6c11e2e7f7"
      },
      "execution_count": 54,
      "outputs": [
        {
          "output_type": "execute_result",
          "data": {
            "text/plain": [
              "True"
            ]
          },
          "metadata": {},
          "execution_count": 54
        }
      ]
    },
    {
      "cell_type": "markdown",
      "source": [
        "P-value ниже порогового, а значит вероятность получить такое или еще более выраженное отклонение очень низкая. У нас есть все основания отвергнуть нулевую гипотезу в пользу альтернативной. В 20 веке действительно в среднем были более зрелищные игры"
      ],
      "metadata": {
        "id": "1c3SWvbRhlRc"
      }
    }
  ]
}